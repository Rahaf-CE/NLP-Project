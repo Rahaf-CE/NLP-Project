{
  "cells": [
    {
      "cell_type": "code",
      "execution_count": 67,
      "metadata": {
        "colab": {
          "base_uri": "https://localhost:8080/"
        },
        "id": "491t8aO2ai4q",
        "outputId": "b21efb3e-4a50-4e78-b1d0-0af2bbe49f27"
      },
      "outputs": [
        {
          "output_type": "stream",
          "name": "stdout",
          "text": [
            "Data source import complete.\n"
          ]
        }
      ],
      "source": [
        "# IMPORTANT: RUN THIS CELL IN ORDER TO IMPORT YOUR KAGGLE DATA SOURCES,\n",
        "# THEN FEEL FREE TO DELETE THIS CELL.\n",
        "# NOTE: THIS NOTEBOOK ENVIRONMENT DIFFERS FROM KAGGLE'S PYTHON\n",
        "# ENVIRONMENT SO THERE MAY BE MISSING LIBRARIES USED BY YOUR\n",
        "# NOTEBOOK.\n",
        "import kagglehub\n",
        "hammaadali_arial_font_path = kagglehub.dataset_download('hammaadali/arial-font')\n",
        "yassinabdulmahdi_arabic_medical_q_and_a_dataset_path = kagglehub.dataset_download('yassinabdulmahdi/arabic-medical-q-and-a-dataset')\n",
        "\n",
        "print('Data source import complete.')\n"
      ]
    },
    {
      "cell_type": "code",
      "execution_count": 2,
      "metadata": {
        "colab": {
          "base_uri": "https://localhost:8080/"
        },
        "id": "m08dHdaFai4x",
        "outputId": "de7652db-4367-4082-8b8b-9a62d686cdca"
      },
      "outputs": [
        {
          "output_type": "stream",
          "name": "stdout",
          "text": [
            "Collecting arabic-reshaper\n",
            "  Downloading arabic_reshaper-3.0.0-py3-none-any.whl.metadata (12 kB)\n",
            "Downloading arabic_reshaper-3.0.0-py3-none-any.whl (20 kB)\n",
            "Installing collected packages: arabic-reshaper\n",
            "Successfully installed arabic-reshaper-3.0.0\n",
            "Collecting python-bidi\n",
            "  Downloading python_bidi-0.6.6-cp311-cp311-manylinux_2_17_x86_64.manylinux2014_x86_64.whl.metadata (4.9 kB)\n",
            "Downloading python_bidi-0.6.6-cp311-cp311-manylinux_2_17_x86_64.manylinux2014_x86_64.whl (292 kB)\n",
            "\u001b[2K   \u001b[90m━━━━━━━━━━━━━━━━━━━━━━━━━━━━━━━━━━━━━━━━\u001b[0m \u001b[32m292.9/292.9 kB\u001b[0m \u001b[31m8.4 MB/s\u001b[0m eta \u001b[36m0:00:00\u001b[0m\n",
            "\u001b[?25hInstalling collected packages: python-bidi\n",
            "Successfully installed python-bidi-0.6.6\n",
            "Requirement already satisfied: wordcloud in /usr/local/lib/python3.11/dist-packages (1.9.4)\n",
            "Requirement already satisfied: numpy>=1.6.1 in /usr/local/lib/python3.11/dist-packages (from wordcloud) (2.0.2)\n",
            "Requirement already satisfied: pillow in /usr/local/lib/python3.11/dist-packages (from wordcloud) (11.2.1)\n",
            "Requirement already satisfied: matplotlib in /usr/local/lib/python3.11/dist-packages (from wordcloud) (3.10.0)\n",
            "Requirement already satisfied: contourpy>=1.0.1 in /usr/local/lib/python3.11/dist-packages (from matplotlib->wordcloud) (1.3.2)\n",
            "Requirement already satisfied: cycler>=0.10 in /usr/local/lib/python3.11/dist-packages (from matplotlib->wordcloud) (0.12.1)\n",
            "Requirement already satisfied: fonttools>=4.22.0 in /usr/local/lib/python3.11/dist-packages (from matplotlib->wordcloud) (4.58.1)\n",
            "Requirement already satisfied: kiwisolver>=1.3.1 in /usr/local/lib/python3.11/dist-packages (from matplotlib->wordcloud) (1.4.8)\n",
            "Requirement already satisfied: packaging>=20.0 in /usr/local/lib/python3.11/dist-packages (from matplotlib->wordcloud) (24.2)\n",
            "Requirement already satisfied: pyparsing>=2.3.1 in /usr/local/lib/python3.11/dist-packages (from matplotlib->wordcloud) (3.2.3)\n",
            "Requirement already satisfied: python-dateutil>=2.7 in /usr/local/lib/python3.11/dist-packages (from matplotlib->wordcloud) (2.9.0.post0)\n",
            "Requirement already satisfied: six>=1.5 in /usr/local/lib/python3.11/dist-packages (from python-dateutil>=2.7->matplotlib->wordcloud) (1.17.0)\n",
            "Collecting tashaphyne\n",
            "  Downloading Tashaphyne-0.3.6-py3-none-any.whl.metadata (18 kB)\n",
            "Collecting pyarabic (from tashaphyne)\n",
            "  Downloading PyArabic-0.6.15-py3-none-any.whl.metadata (10 kB)\n",
            "Requirement already satisfied: six>=1.14.0 in /usr/local/lib/python3.11/dist-packages (from pyarabic->tashaphyne) (1.17.0)\n",
            "Downloading Tashaphyne-0.3.6-py3-none-any.whl (251 kB)\n",
            "\u001b[2K   \u001b[90m━━━━━━━━━━━━━━━━━━━━━━━━━━━━━━━━━━━━━━━━\u001b[0m \u001b[32m251.5/251.5 kB\u001b[0m \u001b[31m11.4 MB/s\u001b[0m eta \u001b[36m0:00:00\u001b[0m\n",
            "\u001b[?25hDownloading PyArabic-0.6.15-py3-none-any.whl (126 kB)\n",
            "\u001b[2K   \u001b[90m━━━━━━━━━━━━━━━━━━━━━━━━━━━━━━━━━━━━━━━━\u001b[0m \u001b[32m126.4/126.4 kB\u001b[0m \u001b[31m7.8 MB/s\u001b[0m eta \u001b[36m0:00:00\u001b[0m\n",
            "\u001b[?25hInstalling collected packages: pyarabic, tashaphyne\n",
            "Successfully installed pyarabic-0.6.15 tashaphyne-0.3.6\n",
            "Collecting qalsadi\n",
            "  Downloading qalsadi-0.5-py3-none-any.whl.metadata (12 kB)\n",
            "Collecting Arabic-Stopwords>=0.4.2 (from qalsadi)\n",
            "  Downloading Arabic_Stopwords-0.4.3-py3-none-any.whl.metadata (8.9 kB)\n",
            "Collecting alyahmor>=0.2 (from qalsadi)\n",
            "  Downloading alyahmor-0.2-py3-none-any.whl.metadata (11 kB)\n",
            "Collecting arramooz-pysqlite>=0.4.2 (from qalsadi)\n",
            "  Downloading arramooz_pysqlite-0.4.2-py3-none-any.whl.metadata (4.0 kB)\n",
            "Collecting codernitydb3 (from qalsadi)\n",
            "  Downloading codernitydb3-0.6.0.tar.gz (46 kB)\n",
            "\u001b[2K     \u001b[90m━━━━━━━━━━━━━━━━━━━━━━━━━━━━━━━━━━━━━━━━\u001b[0m \u001b[32m46.1/46.1 kB\u001b[0m \u001b[31m2.0 MB/s\u001b[0m eta \u001b[36m0:00:00\u001b[0m\n",
            "\u001b[?25h  Preparing metadata (setup.py) ... \u001b[?25l\u001b[?25hdone\n",
            "Collecting libqutrub>=1.2.3 (from qalsadi)\n",
            "  Downloading libqutrub-1.2.4.1-py3-none-any.whl.metadata (7.5 kB)\n",
            "Collecting mysam-tagmanager>=0.3.3 (from qalsadi)\n",
            "  Downloading mysam_tagmanager-0.4-py3-none-any.whl.metadata (10 kB)\n",
            "Collecting naftawayh>=0.3 (from qalsadi)\n",
            "  Downloading Naftawayh-0.4-py3-none-any.whl.metadata (8.7 kB)\n",
            "Collecting pickledb>=0.9.2 (from qalsadi)\n",
            "  Downloading pickledb-1.3.2.tar.gz (10 kB)\n",
            "  Preparing metadata (setup.py) ... \u001b[?25l\u001b[?25hdone\n",
            "Requirement already satisfied: pyarabic>=0.6.7 in /usr/local/lib/python3.11/dist-packages (from qalsadi) (0.6.15)\n",
            "Requirement already satisfied: tashaphyne>=0.3.4.1 in /usr/local/lib/python3.11/dist-packages (from qalsadi) (0.3.6)\n",
            "Requirement already satisfied: orjson in /usr/local/lib/python3.11/dist-packages (from pickledb>=0.9.2->qalsadi) (3.10.18)\n",
            "Requirement already satisfied: aiofiles in /usr/local/lib/python3.11/dist-packages (from pickledb>=0.9.2->qalsadi) (24.1.0)\n",
            "Requirement already satisfied: six>=1.14.0 in /usr/local/lib/python3.11/dist-packages (from pyarabic>=0.6.7->qalsadi) (1.17.0)\n",
            "Downloading qalsadi-0.5-py3-none-any.whl (264 kB)\n",
            "\u001b[2K   \u001b[90m━━━━━━━━━━━━━━━━━━━━━━━━━━━━━━━━━━━━━━━━\u001b[0m \u001b[32m264.3/264.3 kB\u001b[0m \u001b[31m13.8 MB/s\u001b[0m eta \u001b[36m0:00:00\u001b[0m\n",
            "\u001b[?25hDownloading alyahmor-0.2-py3-none-any.whl (65 kB)\n",
            "\u001b[2K   \u001b[90m━━━━━━━━━━━━━━━━━━━━━━━━━━━━━━━━━━━━━━━━\u001b[0m \u001b[32m65.1/65.1 kB\u001b[0m \u001b[31m4.6 MB/s\u001b[0m eta \u001b[36m0:00:00\u001b[0m\n",
            "\u001b[?25hDownloading Arabic_Stopwords-0.4.3-py3-none-any.whl (360 kB)\n",
            "\u001b[2K   \u001b[90m━━━━━━━━━━━━━━━━━━━━━━━━━━━━━━━━━━━━━━━━\u001b[0m \u001b[32m360.5/360.5 kB\u001b[0m \u001b[31m21.7 MB/s\u001b[0m eta \u001b[36m0:00:00\u001b[0m\n",
            "\u001b[?25hDownloading arramooz_pysqlite-0.4.2-py3-none-any.whl (6.3 MB)\n",
            "\u001b[2K   \u001b[90m━━━━━━━━━━━━━━━━━━━━━━━━━━━━━━━━━━━━━━━━\u001b[0m \u001b[32m6.3/6.3 MB\u001b[0m \u001b[31m13.2 MB/s\u001b[0m eta \u001b[36m0:00:00\u001b[0m\n",
            "\u001b[?25hDownloading libqutrub-1.2.4.1-py3-none-any.whl (138 kB)\n",
            "\u001b[2K   \u001b[90m━━━━━━━━━━━━━━━━━━━━━━━━━━━━━━━━━━━━━━━━\u001b[0m \u001b[32m139.0/139.0 kB\u001b[0m \u001b[31m10.1 MB/s\u001b[0m eta \u001b[36m0:00:00\u001b[0m\n",
            "\u001b[?25hDownloading mysam_tagmanager-0.4-py3-none-any.whl (37 kB)\n",
            "Downloading Naftawayh-0.4-py3-none-any.whl (332 kB)\n",
            "\u001b[2K   \u001b[90m━━━━━━━━━━━━━━━━━━━━━━━━━━━━━━━━━━━━━━━━\u001b[0m \u001b[32m332.6/332.6 kB\u001b[0m \u001b[31m21.5 MB/s\u001b[0m eta \u001b[36m0:00:00\u001b[0m\n",
            "\u001b[?25hBuilding wheels for collected packages: pickledb, codernitydb3\n",
            "  Building wheel for pickledb (setup.py) ... \u001b[?25l\u001b[?25hdone\n",
            "  Created wheel for pickledb: filename=pickleDB-1.3.2-py3-none-any.whl size=5289 sha256=d757ba59a41bbdc717d749709bb6d46e0d7a65fc36ae69d7d7dc8ee6e2d50cf3\n",
            "  Stored in directory: /root/.cache/pip/wheels/ad/e2/59/dbb52181bcb1551e623e55c2a715add67a2fdbca7d62632da8\n",
            "  Building wheel for codernitydb3 (setup.py) ... \u001b[?25l\u001b[?25hdone\n",
            "  Created wheel for codernitydb3: filename=codernitydb3-0.6.0-py3-none-any.whl size=59852 sha256=558b323ce86705e75f1839c92e670f1612834c3d6c3ca6828e55bffc3b9851a2\n",
            "  Stored in directory: /root/.cache/pip/wheels/10/46/58/dbd81132e05ee2236e2a7ff9d8a7ec9d00dcfc92dd1e9e6998\n",
            "Successfully built pickledb codernitydb3\n",
            "Installing collected packages: mysam-tagmanager, pickledb, codernitydb3, libqutrub, arramooz-pysqlite, Arabic-Stopwords, naftawayh, alyahmor, qalsadi\n",
            "Successfully installed Arabic-Stopwords-0.4.3 alyahmor-0.2 arramooz-pysqlite-0.4.2 codernitydb3-0.6.0 libqutrub-1.2.4.1 mysam-tagmanager-0.4 naftawayh-0.4 pickledb-1.3.2 qalsadi-0.5\n"
          ]
        }
      ],
      "source": [
        "!pip install arabic-reshaper\n",
        "!pip install python-bidi\n",
        "!pip install wordcloud\n",
        "!pip install tashaphyne\n",
        "!pip install qalsadi"
      ]
    },
    {
      "cell_type": "code",
      "execution_count": 3,
      "metadata": {
        "colab": {
          "base_uri": "https://localhost:8080/"
        },
        "id": "clCK4ogHai4y",
        "outputId": "f038d82f-3b25-45a4-c40c-87764c6ec8e8"
      },
      "outputs": [
        {
          "output_type": "stream",
          "name": "stderr",
          "text": [
            "[nltk_data] Downloading package stopwords to /root/nltk_data...\n",
            "[nltk_data]   Unzipping corpora/stopwords.zip.\n"
          ]
        }
      ],
      "source": [
        "import numpy as np # linear algebra\n",
        "import pandas as pd\n",
        "import re\n",
        "import string\n",
        "import random\n",
        "from sklearn.feature_extraction.text import TfidfVectorizer\n",
        "import matplotlib.pyplot as plt\n",
        "from sklearn.metrics.pairwise import cosine_similarity\n",
        "import seaborn as sns\n",
        "from collections import Counter\n",
        "import arabic_reshaper\n",
        "from bidi.algorithm import get_display\n",
        "from wordcloud import WordCloud, ImageColorGenerator\n",
        "import nltk\n",
        "nltk.download('stopwords')\n",
        "from nltk.corpus import stopwords\n",
        "from textblob import TextBlob\n",
        "import qalsadi.lemmatizer as ql\n",
        "from sklearn.feature_extraction.text import TfidfVectorizer\n",
        "vectorizer = TfidfVectorizer()\n",
        "lemmatizer = ql.Lemmatizer()\n",
        "import pyarabic.araby as araby\n",
        "stop_words = stopwords.words('arabic')\n",
        "# Input data files are available in the read-only \"../input/\" directory\n",
        "# For example, running this (by clicking run or pressing Shift+Enter) will list all files under the input directory\n",
        "\n",
        "import os\n",
        "for dirname, _, filenames in os.walk('/kaggle/input'):\n",
        "    for filename in filenames:\n",
        "        print(os.path.join(dirname, filename))\n",
        "\n",
        "# You can write up to 20GB to the current directory (/kaggle/working/) that gets preserved as output when you create a version using \"Save & Run All\"\n",
        "# You can also write temporary files to /kaggle/temp/, but they won't be saved outside of the current session"
      ]
    },
    {
      "cell_type": "markdown",
      "metadata": {
        "id": "sm2qEhj8ai4z"
      },
      "source": [
        "# Data Exportation"
      ]
    },
    {
      "cell_type": "code",
      "execution_count": 8,
      "metadata": {
        "id": "D2YhUgqhai41"
      },
      "outputs": [],
      "source": [
        "train=pd.read_csv('/content/train.csv')\n",
        "test=pd.read_csv('/content/test.csv')\n",
        "val=pd.read_csv('/content/val.csv')"
      ]
    },
    {
      "cell_type": "code",
      "execution_count": null,
      "metadata": {
        "colab": {
          "base_uri": "https://localhost:8080/"
        },
        "id": "sRWWJNlhai43",
        "outputId": "929e6c11-6b51-4751-c54b-909024f7be16"
      },
      "outputs": [
        {
          "output_type": "execute_result",
          "data": {
            "text/plain": [
              "(52758, 3)"
            ]
          },
          "metadata": {},
          "execution_count": 6
        }
      ],
      "source": [
        "train.shape"
      ]
    },
    {
      "cell_type": "code",
      "execution_count": null,
      "metadata": {
        "colab": {
          "base_uri": "https://localhost:8080/"
        },
        "id": "mqQd-iOVai44",
        "outputId": "8cf38e10-98c1-4a9b-8eda-870f909f5add"
      },
      "outputs": [
        {
          "output_type": "execute_result",
          "data": {
            "text/plain": [
              "(17586, 3)"
            ]
          },
          "metadata": {},
          "execution_count": 7
        }
      ],
      "source": [
        "test.shape"
      ]
    },
    {
      "cell_type": "code",
      "execution_count": null,
      "metadata": {
        "colab": {
          "base_uri": "https://localhost:8080/"
        },
        "id": "OZU6p5wIai45",
        "outputId": "6ed9d105-3db0-460b-a045-027b851aebba"
      },
      "outputs": [
        {
          "output_type": "execute_result",
          "data": {
            "text/plain": [
              "(17586, 3)"
            ]
          },
          "metadata": {},
          "execution_count": 8
        }
      ],
      "source": [
        "val.shape"
      ]
    },
    {
      "cell_type": "markdown",
      "metadata": {
        "id": "CydViy8Kai46"
      },
      "source": [
        "# Data Cleaning"
      ]
    },
    {
      "cell_type": "markdown",
      "metadata": {
        "id": "XJHce_Lhai47"
      },
      "source": [
        "## Exploring missing values:"
      ]
    },
    {
      "cell_type": "code",
      "execution_count": 9,
      "metadata": {
        "colab": {
          "base_uri": "https://localhost:8080/"
        },
        "id": "vrgTaImyai47",
        "outputId": "179e4bc3-adf4-4869-a1b8-93b74a8dabb9"
      },
      "outputs": [
        {
          "output_type": "stream",
          "name": "stdout",
          "text": [
            "Missing values for train: question      0\n",
            "answer      101\n",
            "label         0\n",
            "dtype: int64\n",
            "Missing values for test: question     0\n",
            "answer      34\n",
            "label        0\n",
            "dtype: int64\n",
            "Missing values for val: question     0\n",
            "answer      39\n",
            "label        0\n",
            "dtype: int64\n"
          ]
        }
      ],
      "source": [
        "print(f'Missing values for train: {train.isnull().sum()}')\n",
        "print(f'Missing values for test: {test.isnull().sum()}')\n",
        "print(f'Missing values for val: {val.isnull().sum()}')"
      ]
    },
    {
      "cell_type": "markdown",
      "metadata": {
        "id": "MQHFosc3ai48"
      },
      "source": [
        "We can see that we have missing values for the 'answer' column in all train, test and val data; we have no other options but to drop them."
      ]
    },
    {
      "cell_type": "code",
      "execution_count": 10,
      "metadata": {
        "id": "dvjDYF1pai48"
      },
      "outputs": [],
      "source": [
        "qsts_without_answers_train=train[train['answer'].isnull()]\n",
        "qsts_without_answers_test=test[test['answer'].isnull()]\n",
        "qsts_without_answers_val=val[val['answer'].isnull()]"
      ]
    },
    {
      "cell_type": "code",
      "execution_count": 11,
      "metadata": {
        "id": "b69MW4Dpai49"
      },
      "outputs": [],
      "source": [
        "train.drop(qsts_without_answers_train.index,inplace=True)\n",
        "test.drop(qsts_without_answers_test.index,inplace=True)\n",
        "val.drop(qsts_without_answers_val.index,inplace=True)"
      ]
    },
    {
      "cell_type": "code",
      "execution_count": 12,
      "metadata": {
        "colab": {
          "base_uri": "https://localhost:8080/"
        },
        "id": "rqj617EOai4-",
        "outputId": "5e056954-8e9a-4c5a-f1a1-f7c872291e7d"
      },
      "outputs": [
        {
          "output_type": "stream",
          "name": "stdout",
          "text": [
            "Missing values for train: question    0\n",
            "answer      0\n",
            "label       0\n",
            "dtype: int64\n",
            "Missing values for test: question    0\n",
            "answer      0\n",
            "label       0\n",
            "dtype: int64\n",
            "Missing values for val: question    0\n",
            "answer      0\n",
            "label       0\n",
            "dtype: int64\n"
          ]
        }
      ],
      "source": [
        "print(f'Missing values for train: {train.isnull().sum()}')\n",
        "print(f'Missing values for test: {test.isnull().sum()}')\n",
        "print(f'Missing values for val: {val.isnull().sum()}')"
      ]
    },
    {
      "cell_type": "markdown",
      "metadata": {
        "id": "wy4KOv4sai4-"
      },
      "source": [
        "## Normalizing the columns:\n",
        "For the column 'label', there are many labels that refers to the same categorie: such as  (أمراض الدم,أمراض_الدم,امراض الدم,امراض_الدم) so we need to normalize this column."
      ]
    },
    {
      "cell_type": "code",
      "execution_count": 13,
      "metadata": {
        "colab": {
          "base_uri": "https://localhost:8080/",
          "height": 1000
        },
        "id": "uptxPaykai5A",
        "outputId": "605fa842-4967-4df8-ddc2-b1bcc882141a"
      },
      "outputs": [
        {
          "output_type": "execute_result",
          "data": {
            "text/plain": [
              "label\n",
              "الاورام-الخبيثة-والحميدة    9523\n",
              "جراحة-عامة                  9424\n",
              "امراض-الغدد-الصماء          6714\n",
              "مرض-السكري                  5604\n",
              "امراض-الجهاز-التنفسي        4471\n",
              "ارتفاع-ضغط-الدم             3888\n",
              "جراحة-العظام                2497\n",
              "امراض-الدم                  1711\n",
              "الغدد-الصماء                1068\n",
              "السكري                       931\n",
              "أمراض-الغدد-الصماء           720\n",
              "الجهاز-التنفسي               694\n",
              "الاورام_الخبيثة_والحميدة     603\n",
              "جراحة_عامة                   603\n",
              "الاورام الخبيثة والحميدة     571\n",
              "جراحة عامة                   504\n",
              "امراض_الغدد_الصماء           387\n",
              "أمراض-الجهاز-التنفسي         382\n",
              "مرض_السكري                   336\n",
              "امراض الغدد الصماء           335\n",
              "الدم                         213\n",
              "مرض السكري                   207\n",
              "امراض_الجهاز_التنفسي         201\n",
              "ارتفاع_ضغط_الدم              172\n",
              "امراض الجهاز التنفسي         142\n",
              "أمراض-الدم                   115\n",
              "ارتفاع ضغط الدم              110\n",
              "أمراض_الغدد_الصماء            93\n",
              "جراحة_العظام                  90\n",
              "أمراض الغدد الصماء            87\n",
              "أمراض_الجهاز_التنفسي          59\n",
              "جراحة العظام                  52\n",
              "أمراض الجهاز التنفسي          46\n",
              "امراض_الدم                    42\n",
              "امراض الدم                    34\n",
              "أمراض_الدم                    20\n",
              "أمراض الدم                     8\n",
              "Name: count, dtype: int64"
            ],
            "text/html": [
              "<div>\n",
              "<style scoped>\n",
              "    .dataframe tbody tr th:only-of-type {\n",
              "        vertical-align: middle;\n",
              "    }\n",
              "\n",
              "    .dataframe tbody tr th {\n",
              "        vertical-align: top;\n",
              "    }\n",
              "\n",
              "    .dataframe thead th {\n",
              "        text-align: right;\n",
              "    }\n",
              "</style>\n",
              "<table border=\"1\" class=\"dataframe\">\n",
              "  <thead>\n",
              "    <tr style=\"text-align: right;\">\n",
              "      <th></th>\n",
              "      <th>count</th>\n",
              "    </tr>\n",
              "    <tr>\n",
              "      <th>label</th>\n",
              "      <th></th>\n",
              "    </tr>\n",
              "  </thead>\n",
              "  <tbody>\n",
              "    <tr>\n",
              "      <th>الاورام-الخبيثة-والحميدة</th>\n",
              "      <td>9523</td>\n",
              "    </tr>\n",
              "    <tr>\n",
              "      <th>جراحة-عامة</th>\n",
              "      <td>9424</td>\n",
              "    </tr>\n",
              "    <tr>\n",
              "      <th>امراض-الغدد-الصماء</th>\n",
              "      <td>6714</td>\n",
              "    </tr>\n",
              "    <tr>\n",
              "      <th>مرض-السكري</th>\n",
              "      <td>5604</td>\n",
              "    </tr>\n",
              "    <tr>\n",
              "      <th>امراض-الجهاز-التنفسي</th>\n",
              "      <td>4471</td>\n",
              "    </tr>\n",
              "    <tr>\n",
              "      <th>ارتفاع-ضغط-الدم</th>\n",
              "      <td>3888</td>\n",
              "    </tr>\n",
              "    <tr>\n",
              "      <th>جراحة-العظام</th>\n",
              "      <td>2497</td>\n",
              "    </tr>\n",
              "    <tr>\n",
              "      <th>امراض-الدم</th>\n",
              "      <td>1711</td>\n",
              "    </tr>\n",
              "    <tr>\n",
              "      <th>الغدد-الصماء</th>\n",
              "      <td>1068</td>\n",
              "    </tr>\n",
              "    <tr>\n",
              "      <th>السكري</th>\n",
              "      <td>931</td>\n",
              "    </tr>\n",
              "    <tr>\n",
              "      <th>أمراض-الغدد-الصماء</th>\n",
              "      <td>720</td>\n",
              "    </tr>\n",
              "    <tr>\n",
              "      <th>الجهاز-التنفسي</th>\n",
              "      <td>694</td>\n",
              "    </tr>\n",
              "    <tr>\n",
              "      <th>الاورام_الخبيثة_والحميدة</th>\n",
              "      <td>603</td>\n",
              "    </tr>\n",
              "    <tr>\n",
              "      <th>جراحة_عامة</th>\n",
              "      <td>603</td>\n",
              "    </tr>\n",
              "    <tr>\n",
              "      <th>الاورام الخبيثة والحميدة</th>\n",
              "      <td>571</td>\n",
              "    </tr>\n",
              "    <tr>\n",
              "      <th>جراحة عامة</th>\n",
              "      <td>504</td>\n",
              "    </tr>\n",
              "    <tr>\n",
              "      <th>امراض_الغدد_الصماء</th>\n",
              "      <td>387</td>\n",
              "    </tr>\n",
              "    <tr>\n",
              "      <th>أمراض-الجهاز-التنفسي</th>\n",
              "      <td>382</td>\n",
              "    </tr>\n",
              "    <tr>\n",
              "      <th>مرض_السكري</th>\n",
              "      <td>336</td>\n",
              "    </tr>\n",
              "    <tr>\n",
              "      <th>امراض الغدد الصماء</th>\n",
              "      <td>335</td>\n",
              "    </tr>\n",
              "    <tr>\n",
              "      <th>الدم</th>\n",
              "      <td>213</td>\n",
              "    </tr>\n",
              "    <tr>\n",
              "      <th>مرض السكري</th>\n",
              "      <td>207</td>\n",
              "    </tr>\n",
              "    <tr>\n",
              "      <th>امراض_الجهاز_التنفسي</th>\n",
              "      <td>201</td>\n",
              "    </tr>\n",
              "    <tr>\n",
              "      <th>ارتفاع_ضغط_الدم</th>\n",
              "      <td>172</td>\n",
              "    </tr>\n",
              "    <tr>\n",
              "      <th>امراض الجهاز التنفسي</th>\n",
              "      <td>142</td>\n",
              "    </tr>\n",
              "    <tr>\n",
              "      <th>أمراض-الدم</th>\n",
              "      <td>115</td>\n",
              "    </tr>\n",
              "    <tr>\n",
              "      <th>ارتفاع ضغط الدم</th>\n",
              "      <td>110</td>\n",
              "    </tr>\n",
              "    <tr>\n",
              "      <th>أمراض_الغدد_الصماء</th>\n",
              "      <td>93</td>\n",
              "    </tr>\n",
              "    <tr>\n",
              "      <th>جراحة_العظام</th>\n",
              "      <td>90</td>\n",
              "    </tr>\n",
              "    <tr>\n",
              "      <th>أمراض الغدد الصماء</th>\n",
              "      <td>87</td>\n",
              "    </tr>\n",
              "    <tr>\n",
              "      <th>أمراض_الجهاز_التنفسي</th>\n",
              "      <td>59</td>\n",
              "    </tr>\n",
              "    <tr>\n",
              "      <th>جراحة العظام</th>\n",
              "      <td>52</td>\n",
              "    </tr>\n",
              "    <tr>\n",
              "      <th>أمراض الجهاز التنفسي</th>\n",
              "      <td>46</td>\n",
              "    </tr>\n",
              "    <tr>\n",
              "      <th>امراض_الدم</th>\n",
              "      <td>42</td>\n",
              "    </tr>\n",
              "    <tr>\n",
              "      <th>امراض الدم</th>\n",
              "      <td>34</td>\n",
              "    </tr>\n",
              "    <tr>\n",
              "      <th>أمراض_الدم</th>\n",
              "      <td>20</td>\n",
              "    </tr>\n",
              "    <tr>\n",
              "      <th>أمراض الدم</th>\n",
              "      <td>8</td>\n",
              "    </tr>\n",
              "  </tbody>\n",
              "</table>\n",
              "</div><br><label><b>dtype:</b> int64</label>"
            ]
          },
          "metadata": {},
          "execution_count": 13
        }
      ],
      "source": [
        "train['label'].value_counts()"
      ]
    },
    {
      "cell_type": "code",
      "execution_count": 14,
      "metadata": {
        "id": "qai7xRj2ai5A"
      },
      "outputs": [],
      "source": [
        "def normalize_label_column(dataset):\n",
        "    dataset['label']=dataset['label'].str.replace('_', ' ')\n",
        "    dataset['label']=dataset['label'].str.replace('-', ' ')\n",
        "    dataset['label']=dataset['label'].str.replace('أ', 'ا')\n",
        "    dataset['label']=dataset['label'].str.strip()\n",
        "    dataset['label'] = dataset['label'].str.replace(r'\\s+', ' ', regex=True)\n",
        "\n",
        "\n",
        "    '''dataset['label'] = dataset['label'].replace({\n",
        "        'امراض الدم': 'الدم',\n",
        "        'مرض السكري': 'السكري',\n",
        "        'امراض الجهاز التنفسي': 'الجهاز التنفسي'\n",
        "    })'''"
      ]
    },
    {
      "cell_type": "code",
      "execution_count": 15,
      "metadata": {
        "colab": {
          "base_uri": "https://localhost:8080/"
        },
        "id": "Fb6-WS_zai5B",
        "outputId": "6a6bdbd5-f674-4616-ef02-5013f0debd11"
      },
      "outputs": [
        {
          "output_type": "stream",
          "name": "stdout",
          "text": [
            "Question:\n",
            "اليك نتيجة تحليل هرمونات الغدة الدرقية علما بانه تم استأصال الغدة منذ اكثر من سنتينTT3=163TT4=12.6TSH=.01 هل مطلوب تعديل الجرعة \n",
            "Answer:\n",
            "\n",
            "نعم. يجب تخفيض الجرعة، الا اذا كان سبب استئصال الغدة هو سرطان الغدة\n",
            "0\n",
            "2017-02-13 06:34:19\n",
            "\n",
            "\n",
            "الدكتور باسم مرقص\n",
            "\n",
            "\n",
            "\n",
            "\n",
            "\n",
            "\n",
            "\n",
            "/اسئلة-طبية/امراض-الغدد-الصماء/اليك-نتيجة-تحليل-هرمونات-الغدة-الدرقية-علما-بانه-تم-909154\n",
            "\n",
            "الدكتور باسم مرقص \n",
            "\n",
            "\n",
            "جراحة عامة \n",
            "\n",
            "\n",
            "\n"
          ]
        }
      ],
      "source": [
        "qst1=train['question'].iloc[1] #type of qst1 est str\n",
        "ans1=train['answer'].iloc[1]\n",
        "print(f\"Question:{qst1}\")\n",
        "print(f\"Answer:{ans1}\")"
      ]
    },
    {
      "cell_type": "markdown",
      "metadata": {
        "id": "gXJWeGzKai5B"
      },
      "source": [
        "After examining the responses to various inquiries, it's apparent that they include timestamps of the replies, the name of the responding doctor, and their medical specialty. While informative, these details are extraneous to our analysis and can be safely removed. Additionally, we've noticed paths like '/اسئلة-طبية/امراض-الغدد-الصماء/اليك-نتيجة-تحليل-هرمونات-الغدة-الدرقية-علما-بانه-تم-909154' embedded within the data. To ensure cleanliness and relevance, these paths should also be removed.\n",
        "We can do that by removing the timestamp and everything after it."
      ]
    },
    {
      "cell_type": "code",
      "execution_count": 16,
      "metadata": {
        "id": "8CdUEzi5ai5C"
      },
      "outputs": [],
      "source": [
        "def clean_text(text):\n",
        "    text = re.sub(r'\\d{4}-\\d{2}-\\d{2} \\d{2}:\\d{2}:\\d{2}.*$', '', text)\n",
        "    text = re.sub(r'\\d$', '', text)#To remove the number that exists at the end of each answer\n",
        "    return text\n",
        "\n",
        "def clean_question_and_answer_columns(dataset):\n",
        "    dataset['question']=dataset['question'].str.strip()\n",
        "    dataset['answer']=dataset['answer'].str.strip()\n",
        "    dataset['question']=dataset['question'].str.replace('\\n',' ')\n",
        "    dataset['answer']=dataset['answer'].str.replace('\\n',' ')\n",
        "    dataset['answer'] = dataset['answer'].apply(clean_text)"
      ]
    },
    {
      "cell_type": "code",
      "execution_count": 17,
      "metadata": {
        "colab": {
          "base_uri": "https://localhost:8080/",
          "height": 492
        },
        "id": "gA7A61Yzai5C",
        "outputId": "38206b51-e0fe-4784-ba01-d1e5a05258b7"
      },
      "outputs": [
        {
          "output_type": "execute_result",
          "data": {
            "text/plain": [
              "label\n",
              "الاورام الخبيثة والحميدة    10697\n",
              "جراحة عامة                  10531\n",
              "امراض الغدد الصماء           8336\n",
              "مرض السكري                   6147\n",
              "امراض الجهاز التنفسي         5301\n",
              "ارتفاع ضغط الدم              4170\n",
              "جراحة العظام                 2639\n",
              "امراض الدم                   1930\n",
              "الغدد الصماء                 1068\n",
              "السكري                        931\n",
              "الجهاز التنفسي                694\n",
              "الدم                          213\n",
              "Name: count, dtype: int64"
            ],
            "text/html": [
              "<div>\n",
              "<style scoped>\n",
              "    .dataframe tbody tr th:only-of-type {\n",
              "        vertical-align: middle;\n",
              "    }\n",
              "\n",
              "    .dataframe tbody tr th {\n",
              "        vertical-align: top;\n",
              "    }\n",
              "\n",
              "    .dataframe thead th {\n",
              "        text-align: right;\n",
              "    }\n",
              "</style>\n",
              "<table border=\"1\" class=\"dataframe\">\n",
              "  <thead>\n",
              "    <tr style=\"text-align: right;\">\n",
              "      <th></th>\n",
              "      <th>count</th>\n",
              "    </tr>\n",
              "    <tr>\n",
              "      <th>label</th>\n",
              "      <th></th>\n",
              "    </tr>\n",
              "  </thead>\n",
              "  <tbody>\n",
              "    <tr>\n",
              "      <th>الاورام الخبيثة والحميدة</th>\n",
              "      <td>10697</td>\n",
              "    </tr>\n",
              "    <tr>\n",
              "      <th>جراحة عامة</th>\n",
              "      <td>10531</td>\n",
              "    </tr>\n",
              "    <tr>\n",
              "      <th>امراض الغدد الصماء</th>\n",
              "      <td>8336</td>\n",
              "    </tr>\n",
              "    <tr>\n",
              "      <th>مرض السكري</th>\n",
              "      <td>6147</td>\n",
              "    </tr>\n",
              "    <tr>\n",
              "      <th>امراض الجهاز التنفسي</th>\n",
              "      <td>5301</td>\n",
              "    </tr>\n",
              "    <tr>\n",
              "      <th>ارتفاع ضغط الدم</th>\n",
              "      <td>4170</td>\n",
              "    </tr>\n",
              "    <tr>\n",
              "      <th>جراحة العظام</th>\n",
              "      <td>2639</td>\n",
              "    </tr>\n",
              "    <tr>\n",
              "      <th>امراض الدم</th>\n",
              "      <td>1930</td>\n",
              "    </tr>\n",
              "    <tr>\n",
              "      <th>الغدد الصماء</th>\n",
              "      <td>1068</td>\n",
              "    </tr>\n",
              "    <tr>\n",
              "      <th>السكري</th>\n",
              "      <td>931</td>\n",
              "    </tr>\n",
              "    <tr>\n",
              "      <th>الجهاز التنفسي</th>\n",
              "      <td>694</td>\n",
              "    </tr>\n",
              "    <tr>\n",
              "      <th>الدم</th>\n",
              "      <td>213</td>\n",
              "    </tr>\n",
              "  </tbody>\n",
              "</table>\n",
              "</div><br><label><b>dtype:</b> int64</label>"
            ]
          },
          "metadata": {},
          "execution_count": 17
        }
      ],
      "source": [
        "normalize_label_column(train)\n",
        "normalize_label_column(test)\n",
        "normalize_label_column(val)\n",
        "train['label'].value_counts()"
      ]
    },
    {
      "cell_type": "code",
      "execution_count": 18,
      "metadata": {
        "id": "7gdkr8Jhai5C"
      },
      "outputs": [],
      "source": [
        "clean_question_and_answer_columns(train)\n",
        "clean_question_and_answer_columns(test)\n",
        "clean_question_and_answer_columns(val)"
      ]
    },
    {
      "cell_type": "code",
      "execution_count": 20,
      "metadata": {
        "colab": {
          "base_uri": "https://localhost:8080/"
        },
        "id": "zLhgt9BCai5D",
        "outputId": "d88b60ce-1b29-40d8-9f9d-c877636e9751"
      },
      "outputs": [
        {
          "output_type": "stream",
          "name": "stdout",
          "text": [
            "Question:اليك نتيجة تحليل هرمونات الغدة الدرقية علما بانه تم استأصال الغدة منذ اكثر من سنتينTT3=163TT4=12.6TSH=.01 هل مطلوب تعديل الجرعة\n",
            "Answer:نعم. يجب تخفيض الجرعة، الا اذا كان سبب استئصال الغدة هو سرطان الغدة 0 \n"
          ]
        }
      ],
      "source": [
        "qst1=train['question'].iloc[1] #type of qst1 est str\n",
        "ans1=train['answer'].iloc[1]\n",
        "print(f\"Question:{qst1}\")\n",
        "print(f\"Answer:{ans1}\")"
      ]
    },
    {
      "cell_type": "code",
      "execution_count": 21,
      "metadata": {
        "colab": {
          "base_uri": "https://localhost:8080/",
          "height": 424
        },
        "id": "0tOcucUuai5D",
        "outputId": "7919faaa-47e7-4aa3-f3f9-3ff5460056ac"
      },
      "outputs": [
        {
          "output_type": "execute_result",
          "data": {
            "text/plain": [
              "                                                question  \\\n",
              "0      ما هي مميزات و عيوب الدواء جلوكوفانس 500 5 و ا...   \n",
              "1      اليك نتيجة تحليل هرمونات الغدة الدرقية علما با...   \n",
              "2                     حلول منزلية لأعراض ارتفاع ضغط الدم   \n",
              "3      عملت عملية دوالي الساقين قسطرة الليزر من شهر و...   \n",
              "4      ما حقيقة ان تمرين العضلة النعلية يخفض السكر با...   \n",
              "...                                                  ...   \n",
              "52753  السلام عليكم . يوجد لسع والم وتحجر وورم فى ثما...   \n",
              "52754  هل يمكن ان يرتفع السكر الى 570 دون اعراض مع ال...   \n",
              "52755  هل يمكن علاج سرطان الثدى المرحله الثانيه فى اح...   \n",
              "52756  اعاني من دوخه ونسبه السكر من 69 الى 80 بشكل دا...   \n",
              "52757  تم تركيب شريحه و٧ مساميرفي العضد. التئم الكسر ...   \n",
              "\n",
              "                                                  answer  \\\n",
              "0      لكل علاج ايجابيته وسلبياته والتي تعتمد على حال...   \n",
              "1      نعم. يجب تخفيض الجرعة، الا اذا كان سبب استئصال...   \n",
              "2      يفضل عدم الاستغناء عن العلاج الدوائي لمرضى الض...   \n",
              "3      راجع طبيبك من اجري الجراحه افضل من يجيب لانه ش...   \n",
              "4      إذا قصدت تدليك العضلة فهذا كلام غير صحيح . ولك...   \n",
              "...                                                  ...   \n",
              "52753                              راجع جراحك ولا خوف 0    \n",
              "52754  ليس بالضرورة وجود اعراض ويجب المتابعة عن طريق ...   \n",
              "52755  طبعاً هناك بروتوكول يجب إتباعه. ولكنه بالنهاية...   \n",
              "52756  سلامتك ان شاء الله , قد يكون طبيعي بنقص كميات ...   \n",
              "52757  هذا يعتمد على الوزن اذا كان الوزن كبيراً وهناك...   \n",
              "\n",
              "                          label  \n",
              "0                          الدم  \n",
              "1      الاورام الخبيثة والحميدة  \n",
              "2                    جراحة عامة  \n",
              "3          امراض الجهاز التنفسي  \n",
              "4                    مرض السكري  \n",
              "...                         ...  \n",
              "52753                جراحة عامة  \n",
              "52754                مرض السكري  \n",
              "52755  الاورام الخبيثة والحميدة  \n",
              "52756                مرض السكري  \n",
              "52757              جراحة العظام  \n",
              "\n",
              "[52657 rows x 3 columns]"
            ],
            "text/html": [
              "\n",
              "  <div id=\"df-a3fbcda2-a44f-498f-b88e-8219d2b649ae\" class=\"colab-df-container\">\n",
              "    <div>\n",
              "<style scoped>\n",
              "    .dataframe tbody tr th:only-of-type {\n",
              "        vertical-align: middle;\n",
              "    }\n",
              "\n",
              "    .dataframe tbody tr th {\n",
              "        vertical-align: top;\n",
              "    }\n",
              "\n",
              "    .dataframe thead th {\n",
              "        text-align: right;\n",
              "    }\n",
              "</style>\n",
              "<table border=\"1\" class=\"dataframe\">\n",
              "  <thead>\n",
              "    <tr style=\"text-align: right;\">\n",
              "      <th></th>\n",
              "      <th>question</th>\n",
              "      <th>answer</th>\n",
              "      <th>label</th>\n",
              "    </tr>\n",
              "  </thead>\n",
              "  <tbody>\n",
              "    <tr>\n",
              "      <th>0</th>\n",
              "      <td>ما هي مميزات و عيوب الدواء جلوكوفانس 500 5 و ا...</td>\n",
              "      <td>لكل علاج ايجابيته وسلبياته والتي تعتمد على حال...</td>\n",
              "      <td>الدم</td>\n",
              "    </tr>\n",
              "    <tr>\n",
              "      <th>1</th>\n",
              "      <td>اليك نتيجة تحليل هرمونات الغدة الدرقية علما با...</td>\n",
              "      <td>نعم. يجب تخفيض الجرعة، الا اذا كان سبب استئصال...</td>\n",
              "      <td>الاورام الخبيثة والحميدة</td>\n",
              "    </tr>\n",
              "    <tr>\n",
              "      <th>2</th>\n",
              "      <td>حلول منزلية لأعراض ارتفاع ضغط الدم</td>\n",
              "      <td>يفضل عدم الاستغناء عن العلاج الدوائي لمرضى الض...</td>\n",
              "      <td>جراحة عامة</td>\n",
              "    </tr>\n",
              "    <tr>\n",
              "      <th>3</th>\n",
              "      <td>عملت عملية دوالي الساقين قسطرة الليزر من شهر و...</td>\n",
              "      <td>راجع طبيبك من اجري الجراحه افضل من يجيب لانه ش...</td>\n",
              "      <td>امراض الجهاز التنفسي</td>\n",
              "    </tr>\n",
              "    <tr>\n",
              "      <th>4</th>\n",
              "      <td>ما حقيقة ان تمرين العضلة النعلية يخفض السكر با...</td>\n",
              "      <td>إذا قصدت تدليك العضلة فهذا كلام غير صحيح . ولك...</td>\n",
              "      <td>مرض السكري</td>\n",
              "    </tr>\n",
              "    <tr>\n",
              "      <th>...</th>\n",
              "      <td>...</td>\n",
              "      <td>...</td>\n",
              "      <td>...</td>\n",
              "    </tr>\n",
              "    <tr>\n",
              "      <th>52753</th>\n",
              "      <td>السلام عليكم . يوجد لسع والم وتحجر وورم فى ثما...</td>\n",
              "      <td>راجع جراحك ولا خوف 0</td>\n",
              "      <td>جراحة عامة</td>\n",
              "    </tr>\n",
              "    <tr>\n",
              "      <th>52754</th>\n",
              "      <td>هل يمكن ان يرتفع السكر الى 570 دون اعراض مع ال...</td>\n",
              "      <td>ليس بالضرورة وجود اعراض ويجب المتابعة عن طريق ...</td>\n",
              "      <td>مرض السكري</td>\n",
              "    </tr>\n",
              "    <tr>\n",
              "      <th>52755</th>\n",
              "      <td>هل يمكن علاج سرطان الثدى المرحله الثانيه فى اح...</td>\n",
              "      <td>طبعاً هناك بروتوكول يجب إتباعه. ولكنه بالنهاية...</td>\n",
              "      <td>الاورام الخبيثة والحميدة</td>\n",
              "    </tr>\n",
              "    <tr>\n",
              "      <th>52756</th>\n",
              "      <td>اعاني من دوخه ونسبه السكر من 69 الى 80 بشكل دا...</td>\n",
              "      <td>سلامتك ان شاء الله , قد يكون طبيعي بنقص كميات ...</td>\n",
              "      <td>مرض السكري</td>\n",
              "    </tr>\n",
              "    <tr>\n",
              "      <th>52757</th>\n",
              "      <td>تم تركيب شريحه و٧ مساميرفي العضد. التئم الكسر ...</td>\n",
              "      <td>هذا يعتمد على الوزن اذا كان الوزن كبيراً وهناك...</td>\n",
              "      <td>جراحة العظام</td>\n",
              "    </tr>\n",
              "  </tbody>\n",
              "</table>\n",
              "<p>52657 rows × 3 columns</p>\n",
              "</div>\n",
              "    <div class=\"colab-df-buttons\">\n",
              "\n",
              "  <div class=\"colab-df-container\">\n",
              "    <button class=\"colab-df-convert\" onclick=\"convertToInteractive('df-a3fbcda2-a44f-498f-b88e-8219d2b649ae')\"\n",
              "            title=\"Convert this dataframe to an interactive table.\"\n",
              "            style=\"display:none;\">\n",
              "\n",
              "  <svg xmlns=\"http://www.w3.org/2000/svg\" height=\"24px\" viewBox=\"0 -960 960 960\">\n",
              "    <path d=\"M120-120v-720h720v720H120Zm60-500h600v-160H180v160Zm220 220h160v-160H400v160Zm0 220h160v-160H400v160ZM180-400h160v-160H180v160Zm440 0h160v-160H620v160ZM180-180h160v-160H180v160Zm440 0h160v-160H620v160Z\"/>\n",
              "  </svg>\n",
              "    </button>\n",
              "\n",
              "  <style>\n",
              "    .colab-df-container {\n",
              "      display:flex;\n",
              "      gap: 12px;\n",
              "    }\n",
              "\n",
              "    .colab-df-convert {\n",
              "      background-color: #E8F0FE;\n",
              "      border: none;\n",
              "      border-radius: 50%;\n",
              "      cursor: pointer;\n",
              "      display: none;\n",
              "      fill: #1967D2;\n",
              "      height: 32px;\n",
              "      padding: 0 0 0 0;\n",
              "      width: 32px;\n",
              "    }\n",
              "\n",
              "    .colab-df-convert:hover {\n",
              "      background-color: #E2EBFA;\n",
              "      box-shadow: 0px 1px 2px rgba(60, 64, 67, 0.3), 0px 1px 3px 1px rgba(60, 64, 67, 0.15);\n",
              "      fill: #174EA6;\n",
              "    }\n",
              "\n",
              "    .colab-df-buttons div {\n",
              "      margin-bottom: 4px;\n",
              "    }\n",
              "\n",
              "    [theme=dark] .colab-df-convert {\n",
              "      background-color: #3B4455;\n",
              "      fill: #D2E3FC;\n",
              "    }\n",
              "\n",
              "    [theme=dark] .colab-df-convert:hover {\n",
              "      background-color: #434B5C;\n",
              "      box-shadow: 0px 1px 3px 1px rgba(0, 0, 0, 0.15);\n",
              "      filter: drop-shadow(0px 1px 2px rgba(0, 0, 0, 0.3));\n",
              "      fill: #FFFFFF;\n",
              "    }\n",
              "  </style>\n",
              "\n",
              "    <script>\n",
              "      const buttonEl =\n",
              "        document.querySelector('#df-a3fbcda2-a44f-498f-b88e-8219d2b649ae button.colab-df-convert');\n",
              "      buttonEl.style.display =\n",
              "        google.colab.kernel.accessAllowed ? 'block' : 'none';\n",
              "\n",
              "      async function convertToInteractive(key) {\n",
              "        const element = document.querySelector('#df-a3fbcda2-a44f-498f-b88e-8219d2b649ae');\n",
              "        const dataTable =\n",
              "          await google.colab.kernel.invokeFunction('convertToInteractive',\n",
              "                                                    [key], {});\n",
              "        if (!dataTable) return;\n",
              "\n",
              "        const docLinkHtml = 'Like what you see? Visit the ' +\n",
              "          '<a target=\"_blank\" href=https://colab.research.google.com/notebooks/data_table.ipynb>data table notebook</a>'\n",
              "          + ' to learn more about interactive tables.';\n",
              "        element.innerHTML = '';\n",
              "        dataTable['output_type'] = 'display_data';\n",
              "        await google.colab.output.renderOutput(dataTable, element);\n",
              "        const docLink = document.createElement('div');\n",
              "        docLink.innerHTML = docLinkHtml;\n",
              "        element.appendChild(docLink);\n",
              "      }\n",
              "    </script>\n",
              "  </div>\n",
              "\n",
              "\n",
              "    <div id=\"df-4e11d7e0-0ce7-46e7-8989-1af0b93d17b0\">\n",
              "      <button class=\"colab-df-quickchart\" onclick=\"quickchart('df-4e11d7e0-0ce7-46e7-8989-1af0b93d17b0')\"\n",
              "                title=\"Suggest charts\"\n",
              "                style=\"display:none;\">\n",
              "\n",
              "<svg xmlns=\"http://www.w3.org/2000/svg\" height=\"24px\"viewBox=\"0 0 24 24\"\n",
              "     width=\"24px\">\n",
              "    <g>\n",
              "        <path d=\"M19 3H5c-1.1 0-2 .9-2 2v14c0 1.1.9 2 2 2h14c1.1 0 2-.9 2-2V5c0-1.1-.9-2-2-2zM9 17H7v-7h2v7zm4 0h-2V7h2v10zm4 0h-2v-4h2v4z\"/>\n",
              "    </g>\n",
              "</svg>\n",
              "      </button>\n",
              "\n",
              "<style>\n",
              "  .colab-df-quickchart {\n",
              "      --bg-color: #E8F0FE;\n",
              "      --fill-color: #1967D2;\n",
              "      --hover-bg-color: #E2EBFA;\n",
              "      --hover-fill-color: #174EA6;\n",
              "      --disabled-fill-color: #AAA;\n",
              "      --disabled-bg-color: #DDD;\n",
              "  }\n",
              "\n",
              "  [theme=dark] .colab-df-quickchart {\n",
              "      --bg-color: #3B4455;\n",
              "      --fill-color: #D2E3FC;\n",
              "      --hover-bg-color: #434B5C;\n",
              "      --hover-fill-color: #FFFFFF;\n",
              "      --disabled-bg-color: #3B4455;\n",
              "      --disabled-fill-color: #666;\n",
              "  }\n",
              "\n",
              "  .colab-df-quickchart {\n",
              "    background-color: var(--bg-color);\n",
              "    border: none;\n",
              "    border-radius: 50%;\n",
              "    cursor: pointer;\n",
              "    display: none;\n",
              "    fill: var(--fill-color);\n",
              "    height: 32px;\n",
              "    padding: 0;\n",
              "    width: 32px;\n",
              "  }\n",
              "\n",
              "  .colab-df-quickchart:hover {\n",
              "    background-color: var(--hover-bg-color);\n",
              "    box-shadow: 0 1px 2px rgba(60, 64, 67, 0.3), 0 1px 3px 1px rgba(60, 64, 67, 0.15);\n",
              "    fill: var(--button-hover-fill-color);\n",
              "  }\n",
              "\n",
              "  .colab-df-quickchart-complete:disabled,\n",
              "  .colab-df-quickchart-complete:disabled:hover {\n",
              "    background-color: var(--disabled-bg-color);\n",
              "    fill: var(--disabled-fill-color);\n",
              "    box-shadow: none;\n",
              "  }\n",
              "\n",
              "  .colab-df-spinner {\n",
              "    border: 2px solid var(--fill-color);\n",
              "    border-color: transparent;\n",
              "    border-bottom-color: var(--fill-color);\n",
              "    animation:\n",
              "      spin 1s steps(1) infinite;\n",
              "  }\n",
              "\n",
              "  @keyframes spin {\n",
              "    0% {\n",
              "      border-color: transparent;\n",
              "      border-bottom-color: var(--fill-color);\n",
              "      border-left-color: var(--fill-color);\n",
              "    }\n",
              "    20% {\n",
              "      border-color: transparent;\n",
              "      border-left-color: var(--fill-color);\n",
              "      border-top-color: var(--fill-color);\n",
              "    }\n",
              "    30% {\n",
              "      border-color: transparent;\n",
              "      border-left-color: var(--fill-color);\n",
              "      border-top-color: var(--fill-color);\n",
              "      border-right-color: var(--fill-color);\n",
              "    }\n",
              "    40% {\n",
              "      border-color: transparent;\n",
              "      border-right-color: var(--fill-color);\n",
              "      border-top-color: var(--fill-color);\n",
              "    }\n",
              "    60% {\n",
              "      border-color: transparent;\n",
              "      border-right-color: var(--fill-color);\n",
              "    }\n",
              "    80% {\n",
              "      border-color: transparent;\n",
              "      border-right-color: var(--fill-color);\n",
              "      border-bottom-color: var(--fill-color);\n",
              "    }\n",
              "    90% {\n",
              "      border-color: transparent;\n",
              "      border-bottom-color: var(--fill-color);\n",
              "    }\n",
              "  }\n",
              "</style>\n",
              "\n",
              "      <script>\n",
              "        async function quickchart(key) {\n",
              "          const quickchartButtonEl =\n",
              "            document.querySelector('#' + key + ' button');\n",
              "          quickchartButtonEl.disabled = true;  // To prevent multiple clicks.\n",
              "          quickchartButtonEl.classList.add('colab-df-spinner');\n",
              "          try {\n",
              "            const charts = await google.colab.kernel.invokeFunction(\n",
              "                'suggestCharts', [key], {});\n",
              "          } catch (error) {\n",
              "            console.error('Error during call to suggestCharts:', error);\n",
              "          }\n",
              "          quickchartButtonEl.classList.remove('colab-df-spinner');\n",
              "          quickchartButtonEl.classList.add('colab-df-quickchart-complete');\n",
              "        }\n",
              "        (() => {\n",
              "          let quickchartButtonEl =\n",
              "            document.querySelector('#df-4e11d7e0-0ce7-46e7-8989-1af0b93d17b0 button');\n",
              "          quickchartButtonEl.style.display =\n",
              "            google.colab.kernel.accessAllowed ? 'block' : 'none';\n",
              "        })();\n",
              "      </script>\n",
              "    </div>\n",
              "\n",
              "  <div id=\"id_4f558f81-1926-4a66-bae0-6f6e5439d5e5\">\n",
              "    <style>\n",
              "      .colab-df-generate {\n",
              "        background-color: #E8F0FE;\n",
              "        border: none;\n",
              "        border-radius: 50%;\n",
              "        cursor: pointer;\n",
              "        display: none;\n",
              "        fill: #1967D2;\n",
              "        height: 32px;\n",
              "        padding: 0 0 0 0;\n",
              "        width: 32px;\n",
              "      }\n",
              "\n",
              "      .colab-df-generate:hover {\n",
              "        background-color: #E2EBFA;\n",
              "        box-shadow: 0px 1px 2px rgba(60, 64, 67, 0.3), 0px 1px 3px 1px rgba(60, 64, 67, 0.15);\n",
              "        fill: #174EA6;\n",
              "      }\n",
              "\n",
              "      [theme=dark] .colab-df-generate {\n",
              "        background-color: #3B4455;\n",
              "        fill: #D2E3FC;\n",
              "      }\n",
              "\n",
              "      [theme=dark] .colab-df-generate:hover {\n",
              "        background-color: #434B5C;\n",
              "        box-shadow: 0px 1px 3px 1px rgba(0, 0, 0, 0.15);\n",
              "        filter: drop-shadow(0px 1px 2px rgba(0, 0, 0, 0.3));\n",
              "        fill: #FFFFFF;\n",
              "      }\n",
              "    </style>\n",
              "    <button class=\"colab-df-generate\" onclick=\"generateWithVariable('train')\"\n",
              "            title=\"Generate code using this dataframe.\"\n",
              "            style=\"display:none;\">\n",
              "\n",
              "  <svg xmlns=\"http://www.w3.org/2000/svg\" height=\"24px\"viewBox=\"0 0 24 24\"\n",
              "       width=\"24px\">\n",
              "    <path d=\"M7,19H8.4L18.45,9,17,7.55,7,17.6ZM5,21V16.75L18.45,3.32a2,2,0,0,1,2.83,0l1.4,1.43a1.91,1.91,0,0,1,.58,1.4,1.91,1.91,0,0,1-.58,1.4L9.25,21ZM18.45,9,17,7.55Zm-12,3A5.31,5.31,0,0,0,4.9,8.1,5.31,5.31,0,0,0,1,6.5,5.31,5.31,0,0,0,4.9,4.9,5.31,5.31,0,0,0,6.5,1,5.31,5.31,0,0,0,8.1,4.9,5.31,5.31,0,0,0,12,6.5,5.46,5.46,0,0,0,6.5,12Z\"/>\n",
              "  </svg>\n",
              "    </button>\n",
              "    <script>\n",
              "      (() => {\n",
              "      const buttonEl =\n",
              "        document.querySelector('#id_4f558f81-1926-4a66-bae0-6f6e5439d5e5 button.colab-df-generate');\n",
              "      buttonEl.style.display =\n",
              "        google.colab.kernel.accessAllowed ? 'block' : 'none';\n",
              "\n",
              "      buttonEl.onclick = () => {\n",
              "        google.colab.notebook.generateWithVariable('train');\n",
              "      }\n",
              "      })();\n",
              "    </script>\n",
              "  </div>\n",
              "\n",
              "    </div>\n",
              "  </div>\n"
            ],
            "application/vnd.google.colaboratory.intrinsic+json": {
              "type": "dataframe",
              "variable_name": "train",
              "summary": "{\n  \"name\": \"train\",\n  \"rows\": 52657,\n  \"fields\": [\n    {\n      \"column\": \"question\",\n      \"properties\": {\n        \"dtype\": \"string\",\n        \"num_unique_values\": 31624,\n        \"samples\": [\n          \"\\u0642\\u0633\\u062a \\u0636\\u063a\\u0637\\u064a \\u0639\\u0646\\u062f \\u0637\\u064a\\u064a\\u0628 \\u0627\\u0644\\u0642\\u0644\\u0628 \\u0641\\u0648\\u062c\\u062f\\u0647 12 9.. \\u0648\\u0635\\u0641 \\u0644\\u064a \\u0639\\u0644\\u0627\\u062c\\u0627 \\u062f\\u0648\\u0627\\u0626\\u064a\\u0627 \\u0647\\u0648 coversyl 5mg \\u063a\\u064a\\u0631 \\u0623\\u0646\\u064a \\u0631\\u0641\\u0636\\u062a \\u062a\\u0646\\u0627\\u0648\\u0644\\u0647.. \\u0648\\u0627\\u0639\\u062a\\u0645\\u062f\\u062a \\u062d\\u0645\\u064a\\u0629 \\u063a\\u0630\\u0627\\u0626\\u064a\\u0629 \\u062e\\u0627\\u0644\\u064a\\u0629 \\u0645\\u0646 \\u0627\\u0644\\u0645\\u0644\\u062d \\u0648\\u0627\\u0644\\u0633\\u0643\\u0631 \\u062a\\u0645\\u0627\\u0645\\u0627.. \\u0648\\u0627\\u0644\\u0622\\u0646 \\u0636\\u063a\\u0637\\u064a 11 7\\u060c \\u0647\\u0644 \\u0639\\u0646\\u062f\\u064a \\u0636\\u063a\\u0637\",\n          \"\\u0645\\u0646\\u0630 \\u0627\\u0633\\u0628\\u0648\\u0639\\u064a\\u0646\\u060c \\u0628\\u062f\\u0623\\u062a \\u0627\\u0634\\u0639\\u0631 \\u0628\\u062d\\u0627\\u0644\\u0629 \\u0645\\u0646 \\u0636\\u064a\\u0642 \\u0627\\u0644\\u062a\\u0646\\u0641\\u0633 \\u0648 \\u0636\\u063a\\u0637 \\u0641\\u064a \\u0627\\u0644\\u0635\\u062f\\u0631 \\u064a\\u0635\\u062d\\u0628\\u0647 \\u0634\\u0639\\u0648\\u0631 \\u063a\\u0631\\u064a\\u0628 \\u0643\\u0672\\u0646\\u0647 \\u062f\\u0648\\u0631\\u0627\\u0646 \\u0627\\u0648 \\u063a\\u062b\\u064a\\u0627\\u0646 \\u0645\\u0639 \\u0642\\u0644\\u0642 \\u064a\\u0634\\u062a\\u062f \\u0627\\u0643\\u062b\\u0631 \\u0641\\u064a \\u0627\\u0644\\u0644\\u064a\\u0644\\u060c \\u0648 \\u064a\\u0634\\u062a\\u062f \\u0633\\u0648\\u0621\\u0627\\u064b \\u0627\\u062d\\u064a\\u0627\\u0646\\u0627 \\u0628\\u0639\\u062f \\u0627\\u0644\\u0627\\u0643\\u0644 \\u0648 \\u0627\\u0644\\u0634\\u0639\\u0648\\u0631 \\u0628\\u0627\\u0644\\u0627\\u0646\\u062a\\u0641\\u0627\\u062e\\u061f\",\n          \"\\u0627\\u0644\\u0633\\u0644\\u0645 \\u0639\\u0644\\u064a\\u0643\\u0645 \\u0639\\u0646\\u062f\\u064a \\u0641\\u062a\\u0642 \\u0625\\u0631\\u0628\\u064a \\u064a\\u0643\\u0648\\u0646 \\u0638\\u0627\\u0647\\u0631\\u0627 \\u0639\\u0646\\u062f \\u0627\\u0644\\u0648\\u0642\\u0648\\u0641 \\u0648\\u0645\\u062e\\u062a\\u0641\\u064a\\u0627 \\u0639\\u0646\\u062f \\u0627\\u0644\\u0627\\u0633\\u062a\\u0644\\u0642\\u0627\\u0621 \\u0647\\u0644 \\u064a\\u0645\\u0643\\u0646 \\u062a\\u0623\\u062e\\u064a\\u0631 \\u0627\\u0644\\u0639\\u0645\\u0644\\u064a\\u0629 \\u0625\\u0644\\u0649 \\u0634\\u0647\\u0631 \\u0623\\u0643\\u062a\\u0648\\u0628\\u0631 \\u0645\\u0639 \\u0627\\u0644\\u0639\\u0644\\u0645 \\u0623\\u0646 \\u0627\\u0644\\u0641\\u062a\\u0642 \\u0638\\u0647\\u0631 \\u0641\\u064a \\u0634\\u0647\\u0631 \\u0641\\u0628\\u0631\\u0627\\u064a\\u0631 \\u0645\\u0646 \\u0647\\u0630\\u0647 \\u0627\\u0644\\u0633\\u0646\\u0629 \\u0648\\u0634\\u0643\\u0631\\u0627\"\n        ],\n        \"semantic_type\": \"\",\n        \"description\": \"\"\n      }\n    },\n    {\n      \"column\": \"answer\",\n      \"properties\": {\n        \"dtype\": \"string\",\n        \"num_unique_values\": 31045,\n        \"samples\": [\n          \"\\u062a\\u062d\\u064a\\u0629 \\u0637\\u064a\\u0628\\u0629 \\u0627\\u062e\\u064a \\u0627\\u0644\\u0643\\u0631\\u064a\\u0645 \\u0627\\u0630\\u0627 \\u062b\\u0628\\u062a \\u0648\\u062c\\u0648\\u062f \\u0627\\u0644\\u062a\\u0647\\u0627\\u0628 \\u0628\\u0643\\u062a\\u064a\\u0631\\u064a \\u0641\\u064a \\u0627\\u0644\\u0631\\u0626\\u0629 \\u0645\\u0646 \\u0642\\u0628\\u0644 \\u0637\\u0628\\u064a\\u0628\\u0643 \\u0641\\u0633\\u064a\\u0635\\u0641 \\u0644\\u0643 \\u0645\\u0636\\u0627\\u062f \\u062d\\u064a\\u0648\\u064a \\u0648\\u0647\\u0648 \\u0645\\u0627\\u0644\\u0627\\u064a\\u0645\\u0643\\u0646 \\u0648\\u0635\\u0641\\u0647 \\u0627\\u0644\\u0627\\u0628\\u0639\\u062f \\u0645\\u0639\\u0627\\u064a\\u0646\\u062a\\u0643 \\u0644\\u0637\\u0628\\u064a\\u0628\\u0643 \\u0648\\u0644\\u062a\\u062e\\u0641\\u064a\\u0641 \\u0627\\u0644\\u0633\\u0639\\u0627\\u0644 \\u0627\\u0644\\u0645\\u0635\\u062d\\u0648\\u0628 \\u0628\\u0628\\u0644\\u063a\\u0645 \\u0627\\u0646\\u0635\\u062d\\u0643 \\u0628\\u062a\\u0646\\u0627\\u0648\\u0644 \\u0645\\u0646\\u0642\\u0648\\u0639 \\u0627\\u0644\\u0628\\u0627\\u0628\\u0648\\u0646\\u062c \\u0628\\u0627\\u0644\\u0639\\u0633\\u0644 \\u0645\\u0646\\u0642\\u0648\\u0639 \\u0627\\u0644\\u0632\\u0639\\u062a\\u0631 \\u0645\\u0646\\u0642\\u0648\\u0639 \\u0627\\u0643\\u0644\\u064a\\u0644 \\u0627\\u0644\\u062c\\u0628\\u0644 \\u0645\\u0646\\u0642\\u0648\\u0639 \\u0627\\u0644\\u0632\\u0646\\u062c\\u0628\\u064a\\u0644 \\u0628\\u0627\\u0644\\u0639\\u0633\\u0644 \\u0628\\u0627\\u0644\\u062a\\u0648\\u0641\\u064a\\u0642 \\u0627\\u0646 \\u0634\\u0627\\u0621 \\u0627\\u0644\\u0644\\u0647 1 \",\n          \"\\u0647\\u0630\\u0647 \\u0627\\u0644\\u062d\\u0627\\u0644\\u0629 \\u062a\\u0633\\u0645\\u0649 \\u0627\\u0644\\u062a\\u062b\\u062f\\u064a \\u0639\\u0646\\u062f \\u0627\\u0644\\u0631\\u062c\\u0627\\u0644 \\u064a\\u0648\\u062c\\u062f \\u0644\\u0647\\u0627 \\u0627\\u0643\\u062b\\u0631 \\u0645\\u0646 \\u0633\\u0628\\u0628 \\u0645\\u0646\\u0647\\u0627 \\u0627\\u0636\\u0637\\u0631\\u0627\\u0628 \\u0627\\u0644\\u0647\\u0631\\u0645\\u0648\\u0646\\u0627\\u062a \\u062a\\u062d\\u062a\\u0627\\u062c \\u0644\\u0627\\u062c\\u0631\\u0627\\u0621 \\u0628\\u0639\\u0636 \\u0627\\u0644\\u0641\\u062d\\u0648\\u0635\\u0627\\u062a \\u0627\\u0644\\u0637\\u0628\\u064a\\u0629 \\u0631\\u0627\\u062c\\u0639 \\u0637\\u0628\\u064a\\u0628 \\u0627\\u0644\\u063a\\u062f\\u062f \\u0648\\u0627\\u0644\\u0647\\u0631\\u0645\\u0648\\u0646\\u0627\\u062a \\u0644\\u062a\\u0634\\u062e\\u064a\\u0635 \\u0641\\u064a \\u062d\\u0627\\u0644 \\u0639\\u062f\\u0645 \\u0627\\u0644\\u062a\\u062d\\u0633\\u0646 \\u062a\\u0639\\u0627\\u0644\\u062c \\u0627\\u0644\\u062d\\u0627\\u0644\\u0629 \\u062c\\u0631\\u0627\\u062d\\u064a\\u0627 0 \",\n          \"\\u0647\\u0630\\u0647 \\u062d\\u0633\\u0627\\u0633\\u064a\\u0629 \\u0628\\u0627\\u0644\\u0634\\u0639\\u0628 \\u0627\\u0644\\u0647\\u0648\\u0627\\u0626\\u064a\\u0629 \\u060c \\u0627\\u0646\\u0635\\u062d\\u0643 \\u0628\\u0632\\u064a\\u0627\\u0631\\u0629 \\u0637\\u0628\\u064a\\u0628 \\u0627\\u0633\\u062a\\u0634\\u0627\\u0631\\u064a \\u0627\\u0644\\u0623\\u0645\\u0631\\u0627\\u0636 \\u0627\\u0644\\u0635\\u062f\\u0631\\u064a\\u0629 \\u0644\\u0644\\u0643\\u0634\\u0641 \\u0648\\u0627\\u0644\\u0639\\u0644\\u0627\\u062c. 0 \"\n        ],\n        \"semantic_type\": \"\",\n        \"description\": \"\"\n      }\n    },\n    {\n      \"column\": \"label\",\n      \"properties\": {\n        \"dtype\": \"category\",\n        \"num_unique_values\": 12,\n        \"samples\": [\n          \"\\u062c\\u0631\\u0627\\u062d\\u0629 \\u0627\\u0644\\u0639\\u0638\\u0627\\u0645\",\n          \"\\u0627\\u0645\\u0631\\u0627\\u0636 \\u0627\\u0644\\u063a\\u062f\\u062f \\u0627\\u0644\\u0635\\u0645\\u0627\\u0621\",\n          \"\\u0627\\u0644\\u062f\\u0645\"\n        ],\n        \"semantic_type\": \"\",\n        \"description\": \"\"\n      }\n    }\n  ]\n}"
            }
          },
          "metadata": {},
          "execution_count": 21
        }
      ],
      "source": [
        "train"
      ]
    },
    {
      "cell_type": "code",
      "execution_count": 22,
      "metadata": {
        "colab": {
          "base_uri": "https://localhost:8080/"
        },
        "id": "AVhubQduai5D",
        "outputId": "db53fdda-b42d-454a-875f-6a3b52298311"
      },
      "outputs": [
        {
          "output_type": "stream",
          "name": "stdout",
          "text": [
            "Test and Val datasets have different shapes.\n"
          ]
        }
      ],
      "source": [
        "if test.shape == val.shape:\n",
        "    # Check if all elements are identical row-wise\n",
        "    are_identical = (test.values == val.values).all()\n",
        "    if are_identical:\n",
        "        print(\"Test and Val datasets are identical.\")\n",
        "    else:\n",
        "        print(\"Test and Val datasets are not identical.\")\n",
        "else:\n",
        "    print(\"Test and Val datasets have different shapes.\")"
      ]
    },
    {
      "cell_type": "markdown",
      "metadata": {
        "id": "jFQWcqafai5D"
      },
      "source": [
        "# EDA:"
      ]
    },
    {
      "cell_type": "code",
      "execution_count": 23,
      "metadata": {
        "colab": {
          "base_uri": "https://localhost:8080/",
          "height": 492
        },
        "id": "-FoAsN4aai5E",
        "outputId": "914680eb-6d58-443e-b647-0c8dbb53186d"
      },
      "outputs": [
        {
          "output_type": "execute_result",
          "data": {
            "text/plain": [
              "label\n",
              "الاورام الخبيثة والحميدة    10697\n",
              "جراحة عامة                  10531\n",
              "امراض الغدد الصماء           8336\n",
              "مرض السكري                   6147\n",
              "امراض الجهاز التنفسي         5301\n",
              "ارتفاع ضغط الدم              4170\n",
              "جراحة العظام                 2639\n",
              "امراض الدم                   1930\n",
              "الغدد الصماء                 1068\n",
              "السكري                        931\n",
              "الجهاز التنفسي                694\n",
              "الدم                          213\n",
              "Name: count, dtype: int64"
            ],
            "text/html": [
              "<div>\n",
              "<style scoped>\n",
              "    .dataframe tbody tr th:only-of-type {\n",
              "        vertical-align: middle;\n",
              "    }\n",
              "\n",
              "    .dataframe tbody tr th {\n",
              "        vertical-align: top;\n",
              "    }\n",
              "\n",
              "    .dataframe thead th {\n",
              "        text-align: right;\n",
              "    }\n",
              "</style>\n",
              "<table border=\"1\" class=\"dataframe\">\n",
              "  <thead>\n",
              "    <tr style=\"text-align: right;\">\n",
              "      <th></th>\n",
              "      <th>count</th>\n",
              "    </tr>\n",
              "    <tr>\n",
              "      <th>label</th>\n",
              "      <th></th>\n",
              "    </tr>\n",
              "  </thead>\n",
              "  <tbody>\n",
              "    <tr>\n",
              "      <th>الاورام الخبيثة والحميدة</th>\n",
              "      <td>10697</td>\n",
              "    </tr>\n",
              "    <tr>\n",
              "      <th>جراحة عامة</th>\n",
              "      <td>10531</td>\n",
              "    </tr>\n",
              "    <tr>\n",
              "      <th>امراض الغدد الصماء</th>\n",
              "      <td>8336</td>\n",
              "    </tr>\n",
              "    <tr>\n",
              "      <th>مرض السكري</th>\n",
              "      <td>6147</td>\n",
              "    </tr>\n",
              "    <tr>\n",
              "      <th>امراض الجهاز التنفسي</th>\n",
              "      <td>5301</td>\n",
              "    </tr>\n",
              "    <tr>\n",
              "      <th>ارتفاع ضغط الدم</th>\n",
              "      <td>4170</td>\n",
              "    </tr>\n",
              "    <tr>\n",
              "      <th>جراحة العظام</th>\n",
              "      <td>2639</td>\n",
              "    </tr>\n",
              "    <tr>\n",
              "      <th>امراض الدم</th>\n",
              "      <td>1930</td>\n",
              "    </tr>\n",
              "    <tr>\n",
              "      <th>الغدد الصماء</th>\n",
              "      <td>1068</td>\n",
              "    </tr>\n",
              "    <tr>\n",
              "      <th>السكري</th>\n",
              "      <td>931</td>\n",
              "    </tr>\n",
              "    <tr>\n",
              "      <th>الجهاز التنفسي</th>\n",
              "      <td>694</td>\n",
              "    </tr>\n",
              "    <tr>\n",
              "      <th>الدم</th>\n",
              "      <td>213</td>\n",
              "    </tr>\n",
              "  </tbody>\n",
              "</table>\n",
              "</div><br><label><b>dtype:</b> int64</label>"
            ]
          },
          "metadata": {},
          "execution_count": 23
        }
      ],
      "source": [
        "label_counts=train['label'].value_counts()\n",
        "label_counts"
      ]
    },
    {
      "cell_type": "code",
      "execution_count": 24,
      "metadata": {
        "colab": {
          "base_uri": "https://localhost:8080/",
          "height": 492
        },
        "id": "RwP6dNknai5E",
        "outputId": "7817094a-77d1-4c30-8017-b36f7fddd05f"
      },
      "outputs": [
        {
          "output_type": "execute_result",
          "data": {
            "text/plain": [
              "label\n",
              "الاورام الخبيثة والحميدة    0.203145\n",
              "جراحة عامة                  0.199992\n",
              "امراض الغدد الصماء          0.158308\n",
              "مرض السكري                  0.116737\n",
              "امراض الجهاز التنفسي        0.100670\n",
              "ارتفاع ضغط الدم             0.079192\n",
              "جراحة العظام                0.050117\n",
              "امراض الدم                  0.036652\n",
              "الغدد الصماء                0.020282\n",
              "السكري                      0.017680\n",
              "الجهاز التنفسي              0.013180\n",
              "الدم                        0.004045\n",
              "Name: % of each label, dtype: float64"
            ],
            "text/html": [
              "<div>\n",
              "<style scoped>\n",
              "    .dataframe tbody tr th:only-of-type {\n",
              "        vertical-align: middle;\n",
              "    }\n",
              "\n",
              "    .dataframe tbody tr th {\n",
              "        vertical-align: top;\n",
              "    }\n",
              "\n",
              "    .dataframe thead th {\n",
              "        text-align: right;\n",
              "    }\n",
              "</style>\n",
              "<table border=\"1\" class=\"dataframe\">\n",
              "  <thead>\n",
              "    <tr style=\"text-align: right;\">\n",
              "      <th></th>\n",
              "      <th>% of each label</th>\n",
              "    </tr>\n",
              "    <tr>\n",
              "      <th>label</th>\n",
              "      <th></th>\n",
              "    </tr>\n",
              "  </thead>\n",
              "  <tbody>\n",
              "    <tr>\n",
              "      <th>الاورام الخبيثة والحميدة</th>\n",
              "      <td>0.203145</td>\n",
              "    </tr>\n",
              "    <tr>\n",
              "      <th>جراحة عامة</th>\n",
              "      <td>0.199992</td>\n",
              "    </tr>\n",
              "    <tr>\n",
              "      <th>امراض الغدد الصماء</th>\n",
              "      <td>0.158308</td>\n",
              "    </tr>\n",
              "    <tr>\n",
              "      <th>مرض السكري</th>\n",
              "      <td>0.116737</td>\n",
              "    </tr>\n",
              "    <tr>\n",
              "      <th>امراض الجهاز التنفسي</th>\n",
              "      <td>0.100670</td>\n",
              "    </tr>\n",
              "    <tr>\n",
              "      <th>ارتفاع ضغط الدم</th>\n",
              "      <td>0.079192</td>\n",
              "    </tr>\n",
              "    <tr>\n",
              "      <th>جراحة العظام</th>\n",
              "      <td>0.050117</td>\n",
              "    </tr>\n",
              "    <tr>\n",
              "      <th>امراض الدم</th>\n",
              "      <td>0.036652</td>\n",
              "    </tr>\n",
              "    <tr>\n",
              "      <th>الغدد الصماء</th>\n",
              "      <td>0.020282</td>\n",
              "    </tr>\n",
              "    <tr>\n",
              "      <th>السكري</th>\n",
              "      <td>0.017680</td>\n",
              "    </tr>\n",
              "    <tr>\n",
              "      <th>الجهاز التنفسي</th>\n",
              "      <td>0.013180</td>\n",
              "    </tr>\n",
              "    <tr>\n",
              "      <th>الدم</th>\n",
              "      <td>0.004045</td>\n",
              "    </tr>\n",
              "  </tbody>\n",
              "</table>\n",
              "</div><br><label><b>dtype:</b> float64</label>"
            ]
          },
          "metadata": {},
          "execution_count": 24
        }
      ],
      "source": [
        "label_counts_df=label_counts.to_frame()\n",
        "label_counts_df['% of each label']=label_counts_df['count']/len(train)\n",
        "label_counts_df['% of each label']"
      ]
    },
    {
      "cell_type": "markdown",
      "metadata": {
        "id": "auXUhamcai5E"
      },
      "source": [
        "Having these values, we can conclude:\n",
        "* Malignant and benign tumors (الاورام الخبيثة والحميدة) stand out as the most frequently inquired category, comprising approximately 20% of all questions received.\n",
        "* General surgery (جراحة عامة) closely follows as another highly queried category, constituting nearly 20% of the total questions.\n",
        "* Endocrine disorders (امراض الغدد الصماء) rank prominently among the queried categories, representing about 16% of the overall inquiries.\n",
        "* Diabetes mellitus (مرض السكري) emerges as a significant concern, with around 12% of the questions directed towards this category.\n",
        "* Respiratory system (امراض الجهاز التنفسي) diseases garner notable attention, accounting for approximately 10% of the inquiries received.\n",
        "* Hypertension (ارتفاع ضغط الدم ) holds a substantial portion of the queries, making up about 8% of the total questions.\n",
        "* As for other matters such as Orthopedic surgery (جراحة العظام), Blood disorders (امراض الدم)... their frequencies are comparatively lower, suggesting they are of lesser concern or interest among the inquiries.\n",
        "\n",
        "**We can conclude that the chatbot that we will create after will respond better to questions regarding issues with high frequency such as Malignant and benign tumors (الاورام الخبيثة والحميدة) as well as General surgery (جراحة عامة). These categories are likely to receive more inquiries and thus require more comprehensive and accurate responses from the chatbot.**"
      ]
    },
    {
      "cell_type": "code",
      "execution_count": 25,
      "metadata": {
        "colab": {
          "base_uri": "https://localhost:8080/",
          "height": 492
        },
        "id": "pWZt-G0Oai5E",
        "outputId": "54158d8d-c4c1-44b5-825f-daa0da3272dc",
        "scrolled": true
      },
      "outputs": [
        {
          "output_type": "execute_result",
          "data": {
            "text/plain": [
              "label\n",
              "الاورام الخبيثة والحميدة    0.609446\n",
              "جراحة عامة                  0.599989\n",
              "امراض الغدد الصماء          0.474932\n",
              "مرض السكري                  0.350216\n",
              "امراض الجهاز التنفسي        0.302017\n",
              "ارتفاع ضغط الدم             0.237580\n",
              "جراحة العظام                0.150353\n",
              "امراض الدم                  0.109959\n",
              "الغدد الصماء                0.060848\n",
              "السكري                      0.053042\n",
              "الجهاز التنفسي              0.039540\n",
              "الدم                        0.012135\n",
              "Name: % of each label, dtype: float64"
            ],
            "text/html": [
              "<div>\n",
              "<style scoped>\n",
              "    .dataframe tbody tr th:only-of-type {\n",
              "        vertical-align: middle;\n",
              "    }\n",
              "\n",
              "    .dataframe tbody tr th {\n",
              "        vertical-align: top;\n",
              "    }\n",
              "\n",
              "    .dataframe thead th {\n",
              "        text-align: right;\n",
              "    }\n",
              "</style>\n",
              "<table border=\"1\" class=\"dataframe\">\n",
              "  <thead>\n",
              "    <tr style=\"text-align: right;\">\n",
              "      <th></th>\n",
              "      <th>% of each label</th>\n",
              "    </tr>\n",
              "    <tr>\n",
              "      <th>label</th>\n",
              "      <th></th>\n",
              "    </tr>\n",
              "  </thead>\n",
              "  <tbody>\n",
              "    <tr>\n",
              "      <th>الاورام الخبيثة والحميدة</th>\n",
              "      <td>0.609446</td>\n",
              "    </tr>\n",
              "    <tr>\n",
              "      <th>جراحة عامة</th>\n",
              "      <td>0.599989</td>\n",
              "    </tr>\n",
              "    <tr>\n",
              "      <th>امراض الغدد الصماء</th>\n",
              "      <td>0.474932</td>\n",
              "    </tr>\n",
              "    <tr>\n",
              "      <th>مرض السكري</th>\n",
              "      <td>0.350216</td>\n",
              "    </tr>\n",
              "    <tr>\n",
              "      <th>امراض الجهاز التنفسي</th>\n",
              "      <td>0.302017</td>\n",
              "    </tr>\n",
              "    <tr>\n",
              "      <th>ارتفاع ضغط الدم</th>\n",
              "      <td>0.237580</td>\n",
              "    </tr>\n",
              "    <tr>\n",
              "      <th>جراحة العظام</th>\n",
              "      <td>0.150353</td>\n",
              "    </tr>\n",
              "    <tr>\n",
              "      <th>امراض الدم</th>\n",
              "      <td>0.109959</td>\n",
              "    </tr>\n",
              "    <tr>\n",
              "      <th>الغدد الصماء</th>\n",
              "      <td>0.060848</td>\n",
              "    </tr>\n",
              "    <tr>\n",
              "      <th>السكري</th>\n",
              "      <td>0.053042</td>\n",
              "    </tr>\n",
              "    <tr>\n",
              "      <th>الجهاز التنفسي</th>\n",
              "      <td>0.039540</td>\n",
              "    </tr>\n",
              "    <tr>\n",
              "      <th>الدم</th>\n",
              "      <td>0.012135</td>\n",
              "    </tr>\n",
              "  </tbody>\n",
              "</table>\n",
              "</div><br><label><b>dtype:</b> float64</label>"
            ]
          },
          "metadata": {},
          "execution_count": 25
        }
      ],
      "source": [
        "# for test and val dataframes:\n",
        "label_counts_test=test['label'].value_counts()\n",
        "label_counts_df_test=label_counts.to_frame()\n",
        "label_counts_df_test['% of each label']=label_counts_df_test['count']/len(test)\n",
        "label_counts_df_test['% of each label']"
      ]
    },
    {
      "cell_type": "code",
      "execution_count": 26,
      "metadata": {
        "colab": {
          "base_uri": "https://localhost:8080/",
          "height": 492
        },
        "id": "s5WQcHYEai5F",
        "outputId": "897af117-8f9c-4488-f452-d213d81ba9e4"
      },
      "outputs": [
        {
          "output_type": "execute_result",
          "data": {
            "text/plain": [
              "label\n",
              "الاورام الخبيثة والحميدة    0.609620\n",
              "جراحة عامة                  0.600160\n",
              "امراض الغدد الصماء          0.475067\n",
              "مرض السكري                  0.350316\n",
              "امراض الجهاز التنفسي        0.302103\n",
              "ارتفاع ضغط الدم             0.237647\n",
              "جراحة العظام                0.150396\n",
              "امراض الدم                  0.109990\n",
              "الغدد الصماء                0.060865\n",
              "السكري                      0.053058\n",
              "الجهاز التنفسي              0.039551\n",
              "الدم                        0.012139\n",
              "Name: % of each label, dtype: float64"
            ],
            "text/html": [
              "<div>\n",
              "<style scoped>\n",
              "    .dataframe tbody tr th:only-of-type {\n",
              "        vertical-align: middle;\n",
              "    }\n",
              "\n",
              "    .dataframe tbody tr th {\n",
              "        vertical-align: top;\n",
              "    }\n",
              "\n",
              "    .dataframe thead th {\n",
              "        text-align: right;\n",
              "    }\n",
              "</style>\n",
              "<table border=\"1\" class=\"dataframe\">\n",
              "  <thead>\n",
              "    <tr style=\"text-align: right;\">\n",
              "      <th></th>\n",
              "      <th>% of each label</th>\n",
              "    </tr>\n",
              "    <tr>\n",
              "      <th>label</th>\n",
              "      <th></th>\n",
              "    </tr>\n",
              "  </thead>\n",
              "  <tbody>\n",
              "    <tr>\n",
              "      <th>الاورام الخبيثة والحميدة</th>\n",
              "      <td>0.609620</td>\n",
              "    </tr>\n",
              "    <tr>\n",
              "      <th>جراحة عامة</th>\n",
              "      <td>0.600160</td>\n",
              "    </tr>\n",
              "    <tr>\n",
              "      <th>امراض الغدد الصماء</th>\n",
              "      <td>0.475067</td>\n",
              "    </tr>\n",
              "    <tr>\n",
              "      <th>مرض السكري</th>\n",
              "      <td>0.350316</td>\n",
              "    </tr>\n",
              "    <tr>\n",
              "      <th>امراض الجهاز التنفسي</th>\n",
              "      <td>0.302103</td>\n",
              "    </tr>\n",
              "    <tr>\n",
              "      <th>ارتفاع ضغط الدم</th>\n",
              "      <td>0.237647</td>\n",
              "    </tr>\n",
              "    <tr>\n",
              "      <th>جراحة العظام</th>\n",
              "      <td>0.150396</td>\n",
              "    </tr>\n",
              "    <tr>\n",
              "      <th>امراض الدم</th>\n",
              "      <td>0.109990</td>\n",
              "    </tr>\n",
              "    <tr>\n",
              "      <th>الغدد الصماء</th>\n",
              "      <td>0.060865</td>\n",
              "    </tr>\n",
              "    <tr>\n",
              "      <th>السكري</th>\n",
              "      <td>0.053058</td>\n",
              "    </tr>\n",
              "    <tr>\n",
              "      <th>الجهاز التنفسي</th>\n",
              "      <td>0.039551</td>\n",
              "    </tr>\n",
              "    <tr>\n",
              "      <th>الدم</th>\n",
              "      <td>0.012139</td>\n",
              "    </tr>\n",
              "  </tbody>\n",
              "</table>\n",
              "</div><br><label><b>dtype:</b> float64</label>"
            ]
          },
          "metadata": {},
          "execution_count": 26
        }
      ],
      "source": [
        "label_counts_val=val['label'].value_counts()\n",
        "label_counts_df_val=label_counts.to_frame()\n",
        "label_counts_df_val['% of each label']=label_counts_df_val['count']/len(val)\n",
        "label_counts_df_val['% of each label']"
      ]
    },
    {
      "cell_type": "markdown",
      "metadata": {
        "id": "mFipJfHPai5F"
      },
      "source": [
        "**The categories more frequently encountered in the training data are also more commonly seen in the testing and validation datasets**"
      ]
    },
    {
      "cell_type": "markdown",
      "metadata": {
        "id": "IuI6QYY1ai5F"
      },
      "source": [
        "## WordCloud:"
      ]
    },
    {
      "cell_type": "code",
      "execution_count": null,
      "metadata": {
        "colab": {
          "base_uri": "https://localhost:8080/"
        },
        "id": "ecmY6qVKai5F",
        "outputId": "0d4403e3-084a-49ff-9d59-27e7e6278ad5"
      },
      "outputs": [
        {
          "output_type": "execute_result",
          "data": {
            "text/plain": [
              "754"
            ]
          },
          "metadata": {},
          "execution_count": 26
        }
      ],
      "source": [
        "len(stop_words)"
      ]
    },
    {
      "cell_type": "code",
      "execution_count": 27,
      "metadata": {
        "id": "ZZpwLh0Iai5G"
      },
      "outputs": [],
      "source": [
        "stopwords = [arabic_reshaper.reshape(s) for s in stop_words]"
      ]
    },
    {
      "cell_type": "code",
      "execution_count": 28,
      "metadata": {
        "id": "qmcDG4VCai5G"
      },
      "outputs": [],
      "source": [
        "def column_to_wordcloud(df, column, font_file, stopwords):\n",
        "    text = \" \".join(arabic_reshaper.reshape(t) for t in df[column].dropna())\n",
        "    # create and display the wordcloud\n",
        "    wordcloud = WordCloud(font_path=font_file, width = 3500, height = 2000, random_state=1, background_color='white', colormap='Set2', collocations=False,\n",
        "                      stopwords = stopwords).generate(text)\n",
        "    plt.imshow(wordcloud, interpolation=\"bilinear\")\n",
        "    plt.axis(\"off\")\n",
        "    plt.show()"
      ]
    },
    {
      "cell_type": "markdown",
      "metadata": {
        "id": "ELQ_KLNBai5O"
      },
      "source": [
        "# Data Preprocessing:"
      ]
    },
    {
      "cell_type": "code",
      "execution_count": 29,
      "metadata": {
        "id": "1ufssK7wai5O"
      },
      "outputs": [],
      "source": [
        "stop_words=set(stop_words)\n",
        "#stop_word_comp = {\"،\",\"آض\",\"آمينَ\",\"آه\",\"آهاً\",\"آي\",\"أ\",\"أب\",\"أجل\",\"أجمع\",\"أخ\",\"أخذ\",\"أصبح\",\"أضحى\",\"أقبل\",\"أقل\",\"أكثر\",\"ألا\",\"أم\",\"أما\",\"أمامك\",\"أمامكَ\",\"أمسى\",\"أمّا\",\"أن\",\"أنا\",\"أنت\",\"أنتم\",\"أنتما\",\"أنتن\",\"أنتِ\",\"أنشأ\",\"أنّى\",\"أو\",\"أوشك\",\"أولئك\",\"أولئكم\",\"أولاء\",\"أولالك\",\"أوّهْ\",\"أي\",\"أيا\",\"أين\",\"أينما\",\"أيّ\",\"أَنَّ\",\"أََيُّ\",\"أُفٍّ\",\"إذ\",\"إذا\",\"إذاً\",\"إذما\",\"إذن\",\"إلى\",\"إليكم\",\"إليكما\",\"إليكنّ\",\"إليكَ\",\"إلَيْكَ\",\"إلّا\",\"إمّا\",\"إن\",\"إنّما\",\"إي\",\"إياك\",\"إياكم\",\"إياكما\",\"إياكن\",\"إيانا\",\"إياه\",\"إياها\",\"إياهم\",\"إياهما\",\"إياهن\",\"إياي\",\"إيهٍ\",\"إِنَّ\",\"ا\",\"ابتدأ\",\"اثر\",\"اجل\",\"احد\",\"اخرى\",\"اخلولق\",\"اذا\",\"اربعة\",\"ارتدّ\",\"استحال\",\"اطار\",\"اعادة\",\"اعلنت\",\"اف\",\"اكثر\",\"اكد\",\"الألاء\",\"الألى\",\"الا\",\"الاخيرة\",\"الان\",\"الاول\",\"الاولى\",\"التى\",\"التي\",\"الثاني\",\"الثانية\",\"الذاتي\",\"الذى\",\"الذي\",\"الذين\",\"السابق\",\"الف\",\"اللائي\",\"اللاتي\",\"اللتان\",\"اللتيا\",\"اللتين\",\"اللذان\",\"اللذين\",\"اللواتي\",\"الماضي\",\"المقبل\",\"الوقت\",\"الى\",\"اليوم\",\"اما\",\"امام\",\"امس\",\"ان\",\"انبرى\",\"انقلب\",\"انه\",\"انها\",\"او\",\"اول\",\"اي\",\"ايار\",\"ايام\",\"ايضا\",\"ب\",\"بات\",\"باسم\",\"بان\",\"بخٍ\",\"برس\",\"بسبب\",\"بسّ\",\"بشكل\",\"بضع\",\"بطآن\",\"بعد\",\"بعض\",\"بك\",\"بكم\",\"بكما\",\"بكن\",\"بل\",\"بلى\",\"بما\",\"بماذا\",\"بمن\",\"بن\",\"بنا\",\"به\",\"بها\",\"بي\",\"بيد\",\"بين\",\"بَسْ\",\"بَلْهَ\",\"بِئْسَ\",\"تانِ\",\"تانِك\",\"تبدّل\",\"تجاه\",\"تحوّل\",\"تلقاء\",\"تلك\",\"تلكم\",\"تلكما\",\"تم\",\"تينك\",\"تَيْنِ\",\"تِه\",\"تِي\",\"ثلاثة\",\"ثم\",\"ثمّ\",\"ثمّة\",\"ثُمَّ\",\"جعل\",\"جلل\",\"جميع\",\"جير\",\"حار\",\"حاشا\",\"حاليا\",\"حاي\",\"حتى\",\"حرى\",\"حسب\",\"حم\",\"حوالى\",\"حول\",\"حيث\",\"حيثما\",\"حين\",\"حيَّ\",\"حَبَّذَا\",\"حَتَّى\",\"حَذارِ\",\"خلا\",\"خلال\",\"دون\",\"دونك\",\"ذا\",\"ذات\",\"ذاك\",\"ذانك\",\"ذانِ\",\"ذلك\",\"ذلكم\",\"ذلكما\",\"ذلكن\",\"ذو\",\"ذوا\",\"ذواتا\",\"ذواتي\",\"ذيت\",\"ذينك\",\"ذَيْنِ\",\"ذِه\",\"ذِي\",\"راح\",\"رجع\",\"رويدك\",\"ريث\",\"رُبَّ\",\"زيارة\",\"سبحان\",\"سرعان\",\"سنة\",\"سنوات\",\"سوف\",\"سوى\",\"سَاءَ\",\"سَاءَمَا\",\"شبه\",\"شخصا\",\"شرع\",\"شَتَّانَ\",\"صار\",\"صباح\",\"صفر\",\"صهٍ\",\"صهْ\",\"ضد\",\"ضمن\",\"طاق\",\"طالما\",\"طفق\",\"طَق\",\"ظلّ\",\"عاد\",\"عام\",\"عاما\",\"عامة\",\"عدا\",\"عدة\",\"عدد\",\"عدم\",\"عسى\",\"عشر\",\"عشرة\",\"علق\",\"على\",\"عليك\",\"عليه\",\"عليها\",\"علًّ\",\"عن\",\"عند\",\"عندما\",\"عوض\",\"عين\",\"عَدَسْ\",\"عَمَّا\",\"غدا\",\"غير\",\"ـ\",\"ف\",\"فان\",\"فلان\",\"فو\",\"فى\",\"في\",\"فيم\",\"فيما\",\"فيه\",\"فيها\",\"قال\",\"قام\",\"قبل\",\"قد\",\"قطّ\",\"قلما\",\"قوة\",\"كأنّما\",\"كأين\",\"كأيّ\",\"كأيّن\",\"كاد\",\"كان\",\"كانت\",\"كذا\",\"كذلك\",\"كرب\",\"كل\",\"كلا\",\"كلاهما\",\"كلتا\",\"كلم\",\"كليكما\",\"كليهما\",\"كلّما\",\"كلَّا\",\"كم\",\"كما\",\"كي\",\"كيت\",\"كيف\",\"كيفما\",\"كَأَنَّ\",\"كِخ\",\"لئن\",\"لا\",\"لات\",\"لاسيما\",\"لدن\",\"لدى\",\"لعمر\",\"لقاء\",\"لك\",\"لكم\",\"لكما\",\"لكن\",\"لكنَّما\",\"لكي\",\"لكيلا\",\"للامم\",\"لم\",\"لما\",\"لمّا\",\"لن\",\"لنا\",\"له\",\"لها\",\"لو\",\"لوكالة\",\"لولا\",\"لوما\",\"لي\",\"لَسْتَ\",\"لَسْتُ\",\"لَسْتُم\",\"لَسْتُمَا\",\"لَسْتُنَّ\",\"لَسْتِ\",\"لَسْنَ\",\"لَعَلَّ\",\"لَكِنَّ\",\"لَيْتَ\",\"لَيْسَ\",\"لَيْسَا\",\"لَيْسَتَا\",\"لَيْسَتْ\",\"لَيْسُوا\",\"لَِسْنَا\",\"ما\",\"ماانفك\",\"مابرح\",\"مادام\",\"ماذا\",\"مازال\",\"مافتئ\",\"مايو\",\"متى\",\"مثل\",\"مذ\",\"مساء\",\"مع\",\"معاذ\",\"مقابل\",\"مكانكم\",\"مكانكما\",\"مكانكنّ\",\"مكانَك\",\"مليار\",\"مليون\",\"مما\",\"ممن\",\"من\",\"منذ\",\"منها\",\"مه\",\"مهما\",\"مَنْ\",\"مِن\",\"نحن\",\"نحو\",\"نعم\",\"نفس\",\"نفسه\",\"نهاية\",\"نَخْ\",\"نِعِمّا\",\"نِعْمَ\",\"ها\",\"هاؤم\",\"هاكَ\",\"هاهنا\",\"هبّ\",\"هذا\",\"هذه\",\"هكذا\",\"هل\",\"هلمَّ\",\"هلّا\",\"هم\",\"هما\",\"هن\",\"هنا\",\"هناك\",\"هنالك\",\"هو\",\"هي\",\"هيا\",\"هيت\",\"هيّا\",\"هَؤلاء\",\"هَاتانِ\",\"هَاتَيْنِ\",\"هَاتِه\",\"هَاتِي\",\"هَجْ\",\"هَذا\",\"هَذانِ\",\"هَذَيْنِ\",\"هَذِه\",\"هَذِي\",\"هَيْهَاتَ\",\"و\",\"و6\",\"وا\",\"واحد\",\"واضاف\",\"واضافت\",\"واكد\",\"وان\",\"واهاً\",\"واوضح\",\"وراءَك\",\"وفي\",\"وقال\",\"وقالت\",\"وقد\",\"وقف\",\"وكان\",\"وكانت\",\"ولا\",\"ولم\",\"ومن\",\"مَن\",\"وهو\",\"وهي\",\"ويكأنّ\",\"وَيْ\",\"وُشْكَانََ\",\"يكون\",\"يمكن\",\"يوم\",\"ّأيّان\"}\n",
        "#print(stop_word_comp.issubset(stop_words) )"
      ]
    },
    {
      "cell_type": "code",
      "execution_count": null,
      "metadata": {
        "id": "_jUNYs4kai5O"
      },
      "outputs": [],
      "source": [
        "#stopwords=stopwords.union(stop_word_comp)"
      ]
    },
    {
      "cell_type": "code",
      "execution_count": 30,
      "metadata": {
        "colab": {
          "base_uri": "https://localhost:8080/"
        },
        "id": "WpZEVqHOai5O",
        "outputId": "27f6624c-d5aa-4071-8025-dfd2b9494c31"
      },
      "outputs": [
        {
          "output_type": "stream",
          "name": "stdout",
          "text": [
            "Question:اليك نتيجة تحليل هرمونات الغدة الدرقية علما بانه تم استأصال الغدة منذ اكثر من سنتينTT3=163TT4=12.6TSH=.01 هل مطلوب تعديل الجرعة\n",
            "Answer:نعم. يجب تخفيض الجرعة، الا اذا كان سبب استئصال الغدة هو سرطان الغدة 0 \n"
          ]
        }
      ],
      "source": [
        "qst1=train['question'].iloc[1] #type of qst1 est str\n",
        "ans1=train['answer'].iloc[1]\n",
        "print(f\"Question:{qst1}\")\n",
        "print(f\"Answer:{ans1}\")"
      ]
    },
    {
      "cell_type": "code",
      "execution_count": 31,
      "metadata": {
        "id": "WOw8pPB_ai5O"
      },
      "outputs": [],
      "source": [
        "class ArabicTextPreprocessor:\n",
        "    def __init__(self):\n",
        "        pass\n",
        "\n",
        "    def remove_punctuation(self,text):\n",
        "        punc=string.punctuation+\"،\"\n",
        "        text= text.translate(str.maketrans('', '', punc))\n",
        "        return text\n",
        "    def adding_a_space_between_a_word_and_a_punctuation(self,text):\n",
        "        text = re.sub(r\"([?.!,¿،])\", r\" \\1 \", text)\n",
        "        text = re.sub(r'[\" \"]+', \" \", text)\n",
        "        return text\n",
        "    def remove_stopwords(self,text,stopwords):\n",
        "        textb=TextBlob(text)\n",
        "        words=textb.words\n",
        "        return \" \".join([w for w in words if w not in stop_words])\n",
        "    def lemmatize(self,text):\n",
        "        lemmas= [lemmatizer.lemmatize(word) for word in text.split()]\n",
        "        return \" \".join(lemmas)\n",
        "    def normalizeArabic(self,text):\n",
        "        text = text.strip()\n",
        "        text = re.sub(\"[إأٱآا]\", \"ا\", text)\n",
        "        text = re.sub(\"ى\", \"ي\", text)\n",
        "        text = re.sub(\"ؤ\", \"ء\", text)\n",
        "        text = re.sub(\"ئ\", \"ء\", text)\n",
        "        text = re.sub(\"ة\", \"ه\", text)\n",
        "        noise = re.compile(\"\"\" ّ    | # Tashdid\n",
        "                             َ    | # Fatha\n",
        "                             ً    | # Tanwin Fath\n",
        "                             ُ    | # Damma\n",
        "                             ٌ    | # Tanwin Damm\n",
        "                             ِ    | # Kasra\n",
        "                             ٍ    | # Tanwin Kasr\n",
        "                             ْ    | # Sukun\n",
        "                             ـ     # Tatwil/Kashida\n",
        "                         \"\"\", re.VERBOSE)\n",
        "        text = re.sub(noise, '', text)\n",
        "        text = re.sub(r'(.)\\1+', r\"\\1\\1\", text) # Remove longation\n",
        "        return araby.strip_tashkeel(text)\n",
        "\n",
        "    # adding a start and an end token to the sentence\n",
        "    # so that the model know when to start and stop predicting.\n",
        "    def add_start_and_end_tokens(self,text):\n",
        "        return '<end> '+text.strip()+' <start>'\n"
      ]
    },
    {
      "cell_type": "code",
      "execution_count": 32,
      "metadata": {
        "id": "2CoTz0_Xai5Q"
      },
      "outputs": [],
      "source": [
        "#Preprocessing train, test and val data:\n",
        "def Preprocess_data(dataset,column_name):\n",
        "    p=ArabicTextPreprocessor()\n",
        "    dataset[column_name]=dataset[column_name].apply(p.adding_a_space_between_a_word_and_a_punctuation)\n",
        "    dataset[column_name]=dataset[column_name].apply(p.normalizeArabic)\n",
        "    dataset[column_name]=dataset[column_name].apply(p.add_start_and_end_tokens)"
      ]
    },
    {
      "cell_type": "code",
      "execution_count": 33,
      "metadata": {
        "id": "9_NApnwTai5Q"
      },
      "outputs": [],
      "source": [
        "#train:\n",
        "Preprocess_data(train,'question')\n",
        "Preprocess_data(train,'answer')\n",
        "#test\n",
        "Preprocess_data(test,'question')\n",
        "Preprocess_data(test,'answer')\n",
        "#val\n",
        "Preprocess_data(val,'question')\n",
        "Preprocess_data(val,'answer')"
      ]
    },
    {
      "cell_type": "code",
      "execution_count": null,
      "metadata": {
        "colab": {
          "base_uri": "https://localhost:8080/",
          "height": 206
        },
        "id": "FYD-NmLRai5Q",
        "outputId": "40fde2bd-5edc-4095-fd3b-50c6c36d0d0d"
      },
      "outputs": [
        {
          "output_type": "execute_result",
          "data": {
            "text/plain": [
              "                                            question  \\\n",
              "0  <end> ما هي مميزات و عيوب الدواء جلوكوفانس 500...   \n",
              "1  <end> اليك نتيجه تحليل هرمونات الغده الدرقيه ع...   \n",
              "2   <end> حلول منزليه لاعراض ارتفاع ضغط الدم <start>   \n",
              "3  <end> عملت عمليه دوالي الساقين قسطره الليزر من...   \n",
              "4  <end> ما حقيقه ان تمرين العضله النعليه يخفض ال...   \n",
              "\n",
              "                                              answer                     label  \n",
              "0  <end> لكل علاج ايجابيته وسلبياته والتي تعتمد ع...                      الدم  \n",
              "1  <end> نعم . يجب تخفيض الجرعه ، الا اذا كان سبب...  الاورام الخبيثة والحميدة  \n",
              "2  <end> يفضل عدم الاستغناء عن العلاج الدواءي لمر...                جراحة عامة  \n",
              "3  <end> راجع طبيبك من اجري الجراحه افضل من يجيب ...      امراض الجهاز التنفسي  \n",
              "4  <end> اذا قصدت تدليك العضله فهذا كلام غير صحيح...                مرض السكري  "
            ],
            "text/html": [
              "\n",
              "  <div id=\"df-b809759c-6c63-4bd1-b0b9-7178e8db128e\" class=\"colab-df-container\">\n",
              "    <div>\n",
              "<style scoped>\n",
              "    .dataframe tbody tr th:only-of-type {\n",
              "        vertical-align: middle;\n",
              "    }\n",
              "\n",
              "    .dataframe tbody tr th {\n",
              "        vertical-align: top;\n",
              "    }\n",
              "\n",
              "    .dataframe thead th {\n",
              "        text-align: right;\n",
              "    }\n",
              "</style>\n",
              "<table border=\"1\" class=\"dataframe\">\n",
              "  <thead>\n",
              "    <tr style=\"text-align: right;\">\n",
              "      <th></th>\n",
              "      <th>question</th>\n",
              "      <th>answer</th>\n",
              "      <th>label</th>\n",
              "    </tr>\n",
              "  </thead>\n",
              "  <tbody>\n",
              "    <tr>\n",
              "      <th>0</th>\n",
              "      <td>&lt;end&gt; ما هي مميزات و عيوب الدواء جلوكوفانس 500...</td>\n",
              "      <td>&lt;end&gt; لكل علاج ايجابيته وسلبياته والتي تعتمد ع...</td>\n",
              "      <td>الدم</td>\n",
              "    </tr>\n",
              "    <tr>\n",
              "      <th>1</th>\n",
              "      <td>&lt;end&gt; اليك نتيجه تحليل هرمونات الغده الدرقيه ع...</td>\n",
              "      <td>&lt;end&gt; نعم . يجب تخفيض الجرعه ، الا اذا كان سبب...</td>\n",
              "      <td>الاورام الخبيثة والحميدة</td>\n",
              "    </tr>\n",
              "    <tr>\n",
              "      <th>2</th>\n",
              "      <td>&lt;end&gt; حلول منزليه لاعراض ارتفاع ضغط الدم &lt;start&gt;</td>\n",
              "      <td>&lt;end&gt; يفضل عدم الاستغناء عن العلاج الدواءي لمر...</td>\n",
              "      <td>جراحة عامة</td>\n",
              "    </tr>\n",
              "    <tr>\n",
              "      <th>3</th>\n",
              "      <td>&lt;end&gt; عملت عمليه دوالي الساقين قسطره الليزر من...</td>\n",
              "      <td>&lt;end&gt; راجع طبيبك من اجري الجراحه افضل من يجيب ...</td>\n",
              "      <td>امراض الجهاز التنفسي</td>\n",
              "    </tr>\n",
              "    <tr>\n",
              "      <th>4</th>\n",
              "      <td>&lt;end&gt; ما حقيقه ان تمرين العضله النعليه يخفض ال...</td>\n",
              "      <td>&lt;end&gt; اذا قصدت تدليك العضله فهذا كلام غير صحيح...</td>\n",
              "      <td>مرض السكري</td>\n",
              "    </tr>\n",
              "  </tbody>\n",
              "</table>\n",
              "</div>\n",
              "    <div class=\"colab-df-buttons\">\n",
              "\n",
              "  <div class=\"colab-df-container\">\n",
              "    <button class=\"colab-df-convert\" onclick=\"convertToInteractive('df-b809759c-6c63-4bd1-b0b9-7178e8db128e')\"\n",
              "            title=\"Convert this dataframe to an interactive table.\"\n",
              "            style=\"display:none;\">\n",
              "\n",
              "  <svg xmlns=\"http://www.w3.org/2000/svg\" height=\"24px\" viewBox=\"0 -960 960 960\">\n",
              "    <path d=\"M120-120v-720h720v720H120Zm60-500h600v-160H180v160Zm220 220h160v-160H400v160Zm0 220h160v-160H400v160ZM180-400h160v-160H180v160Zm440 0h160v-160H620v160ZM180-180h160v-160H180v160Zm440 0h160v-160H620v160Z\"/>\n",
              "  </svg>\n",
              "    </button>\n",
              "\n",
              "  <style>\n",
              "    .colab-df-container {\n",
              "      display:flex;\n",
              "      gap: 12px;\n",
              "    }\n",
              "\n",
              "    .colab-df-convert {\n",
              "      background-color: #E8F0FE;\n",
              "      border: none;\n",
              "      border-radius: 50%;\n",
              "      cursor: pointer;\n",
              "      display: none;\n",
              "      fill: #1967D2;\n",
              "      height: 32px;\n",
              "      padding: 0 0 0 0;\n",
              "      width: 32px;\n",
              "    }\n",
              "\n",
              "    .colab-df-convert:hover {\n",
              "      background-color: #E2EBFA;\n",
              "      box-shadow: 0px 1px 2px rgba(60, 64, 67, 0.3), 0px 1px 3px 1px rgba(60, 64, 67, 0.15);\n",
              "      fill: #174EA6;\n",
              "    }\n",
              "\n",
              "    .colab-df-buttons div {\n",
              "      margin-bottom: 4px;\n",
              "    }\n",
              "\n",
              "    [theme=dark] .colab-df-convert {\n",
              "      background-color: #3B4455;\n",
              "      fill: #D2E3FC;\n",
              "    }\n",
              "\n",
              "    [theme=dark] .colab-df-convert:hover {\n",
              "      background-color: #434B5C;\n",
              "      box-shadow: 0px 1px 3px 1px rgba(0, 0, 0, 0.15);\n",
              "      filter: drop-shadow(0px 1px 2px rgba(0, 0, 0, 0.3));\n",
              "      fill: #FFFFFF;\n",
              "    }\n",
              "  </style>\n",
              "\n",
              "    <script>\n",
              "      const buttonEl =\n",
              "        document.querySelector('#df-b809759c-6c63-4bd1-b0b9-7178e8db128e button.colab-df-convert');\n",
              "      buttonEl.style.display =\n",
              "        google.colab.kernel.accessAllowed ? 'block' : 'none';\n",
              "\n",
              "      async function convertToInteractive(key) {\n",
              "        const element = document.querySelector('#df-b809759c-6c63-4bd1-b0b9-7178e8db128e');\n",
              "        const dataTable =\n",
              "          await google.colab.kernel.invokeFunction('convertToInteractive',\n",
              "                                                    [key], {});\n",
              "        if (!dataTable) return;\n",
              "\n",
              "        const docLinkHtml = 'Like what you see? Visit the ' +\n",
              "          '<a target=\"_blank\" href=https://colab.research.google.com/notebooks/data_table.ipynb>data table notebook</a>'\n",
              "          + ' to learn more about interactive tables.';\n",
              "        element.innerHTML = '';\n",
              "        dataTable['output_type'] = 'display_data';\n",
              "        await google.colab.output.renderOutput(dataTable, element);\n",
              "        const docLink = document.createElement('div');\n",
              "        docLink.innerHTML = docLinkHtml;\n",
              "        element.appendChild(docLink);\n",
              "      }\n",
              "    </script>\n",
              "  </div>\n",
              "\n",
              "\n",
              "    <div id=\"df-d27a3395-e83c-44dd-8bf4-1086f28c244d\">\n",
              "      <button class=\"colab-df-quickchart\" onclick=\"quickchart('df-d27a3395-e83c-44dd-8bf4-1086f28c244d')\"\n",
              "                title=\"Suggest charts\"\n",
              "                style=\"display:none;\">\n",
              "\n",
              "<svg xmlns=\"http://www.w3.org/2000/svg\" height=\"24px\"viewBox=\"0 0 24 24\"\n",
              "     width=\"24px\">\n",
              "    <g>\n",
              "        <path d=\"M19 3H5c-1.1 0-2 .9-2 2v14c0 1.1.9 2 2 2h14c1.1 0 2-.9 2-2V5c0-1.1-.9-2-2-2zM9 17H7v-7h2v7zm4 0h-2V7h2v10zm4 0h-2v-4h2v4z\"/>\n",
              "    </g>\n",
              "</svg>\n",
              "      </button>\n",
              "\n",
              "<style>\n",
              "  .colab-df-quickchart {\n",
              "      --bg-color: #E8F0FE;\n",
              "      --fill-color: #1967D2;\n",
              "      --hover-bg-color: #E2EBFA;\n",
              "      --hover-fill-color: #174EA6;\n",
              "      --disabled-fill-color: #AAA;\n",
              "      --disabled-bg-color: #DDD;\n",
              "  }\n",
              "\n",
              "  [theme=dark] .colab-df-quickchart {\n",
              "      --bg-color: #3B4455;\n",
              "      --fill-color: #D2E3FC;\n",
              "      --hover-bg-color: #434B5C;\n",
              "      --hover-fill-color: #FFFFFF;\n",
              "      --disabled-bg-color: #3B4455;\n",
              "      --disabled-fill-color: #666;\n",
              "  }\n",
              "\n",
              "  .colab-df-quickchart {\n",
              "    background-color: var(--bg-color);\n",
              "    border: none;\n",
              "    border-radius: 50%;\n",
              "    cursor: pointer;\n",
              "    display: none;\n",
              "    fill: var(--fill-color);\n",
              "    height: 32px;\n",
              "    padding: 0;\n",
              "    width: 32px;\n",
              "  }\n",
              "\n",
              "  .colab-df-quickchart:hover {\n",
              "    background-color: var(--hover-bg-color);\n",
              "    box-shadow: 0 1px 2px rgba(60, 64, 67, 0.3), 0 1px 3px 1px rgba(60, 64, 67, 0.15);\n",
              "    fill: var(--button-hover-fill-color);\n",
              "  }\n",
              "\n",
              "  .colab-df-quickchart-complete:disabled,\n",
              "  .colab-df-quickchart-complete:disabled:hover {\n",
              "    background-color: var(--disabled-bg-color);\n",
              "    fill: var(--disabled-fill-color);\n",
              "    box-shadow: none;\n",
              "  }\n",
              "\n",
              "  .colab-df-spinner {\n",
              "    border: 2px solid var(--fill-color);\n",
              "    border-color: transparent;\n",
              "    border-bottom-color: var(--fill-color);\n",
              "    animation:\n",
              "      spin 1s steps(1) infinite;\n",
              "  }\n",
              "\n",
              "  @keyframes spin {\n",
              "    0% {\n",
              "      border-color: transparent;\n",
              "      border-bottom-color: var(--fill-color);\n",
              "      border-left-color: var(--fill-color);\n",
              "    }\n",
              "    20% {\n",
              "      border-color: transparent;\n",
              "      border-left-color: var(--fill-color);\n",
              "      border-top-color: var(--fill-color);\n",
              "    }\n",
              "    30% {\n",
              "      border-color: transparent;\n",
              "      border-left-color: var(--fill-color);\n",
              "      border-top-color: var(--fill-color);\n",
              "      border-right-color: var(--fill-color);\n",
              "    }\n",
              "    40% {\n",
              "      border-color: transparent;\n",
              "      border-right-color: var(--fill-color);\n",
              "      border-top-color: var(--fill-color);\n",
              "    }\n",
              "    60% {\n",
              "      border-color: transparent;\n",
              "      border-right-color: var(--fill-color);\n",
              "    }\n",
              "    80% {\n",
              "      border-color: transparent;\n",
              "      border-right-color: var(--fill-color);\n",
              "      border-bottom-color: var(--fill-color);\n",
              "    }\n",
              "    90% {\n",
              "      border-color: transparent;\n",
              "      border-bottom-color: var(--fill-color);\n",
              "    }\n",
              "  }\n",
              "</style>\n",
              "\n",
              "      <script>\n",
              "        async function quickchart(key) {\n",
              "          const quickchartButtonEl =\n",
              "            document.querySelector('#' + key + ' button');\n",
              "          quickchartButtonEl.disabled = true;  // To prevent multiple clicks.\n",
              "          quickchartButtonEl.classList.add('colab-df-spinner');\n",
              "          try {\n",
              "            const charts = await google.colab.kernel.invokeFunction(\n",
              "                'suggestCharts', [key], {});\n",
              "          } catch (error) {\n",
              "            console.error('Error during call to suggestCharts:', error);\n",
              "          }\n",
              "          quickchartButtonEl.classList.remove('colab-df-spinner');\n",
              "          quickchartButtonEl.classList.add('colab-df-quickchart-complete');\n",
              "        }\n",
              "        (() => {\n",
              "          let quickchartButtonEl =\n",
              "            document.querySelector('#df-d27a3395-e83c-44dd-8bf4-1086f28c244d button');\n",
              "          quickchartButtonEl.style.display =\n",
              "            google.colab.kernel.accessAllowed ? 'block' : 'none';\n",
              "        })();\n",
              "      </script>\n",
              "    </div>\n",
              "\n",
              "    </div>\n",
              "  </div>\n"
            ],
            "application/vnd.google.colaboratory.intrinsic+json": {
              "type": "dataframe",
              "variable_name": "train",
              "summary": "{\n  \"name\": \"train\",\n  \"rows\": 52657,\n  \"fields\": [\n    {\n      \"column\": \"question\",\n      \"properties\": {\n        \"dtype\": \"string\",\n        \"num_unique_values\": 31622,\n        \"samples\": [\n          \"<end> \\u0639\\u0646\\u062f\\u064a \\u0643\\u064a\\u0633 \\u0635\\u063a\\u064a\\u0631 \\u0628\\u0627\\u0644\\u063a\\u062f\\u0647 \\u0627\\u0644\\u062f\\u0631\\u0642\\u064a\\u0647 \\u0644\\u0627 \\u0633\\u062a\\u0639\\u062f\\u064a 3 \\u0633\\u0646\\u062a\\u064a\\u0645 \\u0648\\u0627\\u0644\\u0637\\u0628\\u064a\\u0628 \\u0648\\u0635\\u0641 \\u0644\\u064a \\u0644\\u064a\\u0641\\u0648\\u062a\\u064a\\u0631\\u0648\\u0643\\u0633 25 \\u0642\\u0627\\u0644 \\u0644\\u0639\\u062f\\u0645 \\u0643\\u0628\\u0631 \\u0627\\u0644\\u062d\\u062c\\u0645 \\u0627\\u0639\\u0627\\u0646\\u064a \\u0645\\u0646 \\u062e\\u0641\\u0642\\u0627\\u0646 \\u0627\\u0644\\u0642\\u0644\\u0628 \\u0628\\u0639\\u0636 \\u0627\\u0644\\u0645\\u0631\\u0627\\u062a \\u0648\\u0627\\u062d\\u0633 \\u0627\\u0644\\u062d\\u0646\\u062c\\u0631\\u0647 \\u0643\\u0644\\u0647 \\u064a\\u062e\\u0641\\u0642 \\u0645\\u0639 \\u0627\\u0646\\u062e\\u0641\\u0627\\u0636 \\u0627\\u0644\\u0636\\u063a\\u0637 \\u0647\\u0644 \\u0639\\u0627\\u062f\\u064a <start>\",\n          \"<end> \\u0645\\u0646\\u0630 \\u0627\\u0633\\u0628\\u0648\\u0639\\u064a\\u0646 \\u060c \\u0628\\u062f\\u0627\\u062a \\u0627\\u0634\\u0639\\u0631 \\u0628\\u062d\\u0627\\u0644\\u0647 \\u0645\\u0646 \\u0636\\u064a\\u0642 \\u0627\\u0644\\u062a\\u0646\\u0641\\u0633 \\u0648 \\u0636\\u063a\\u0637 \\u0641\\u064a \\u0627\\u0644\\u0635\\u062f\\u0631 \\u064a\\u0635\\u062d\\u0628\\u0647 \\u0634\\u0639\\u0648\\u0631 \\u063a\\u0631\\u064a\\u0628 \\u0643\\u0672\\u0646\\u0647 \\u062f\\u0648\\u0631\\u0627\\u0646 \\u0627\\u0648 \\u063a\\u062b\\u064a\\u0627\\u0646 \\u0645\\u0639 \\u0642\\u0644\\u0642 \\u064a\\u0634\\u062a\\u062f \\u0627\\u0643\\u062b\\u0631 \\u0641\\u064a \\u0627\\u0644\\u0644\\u064a\\u0644 \\u060c \\u0648 \\u064a\\u0634\\u062a\\u062f \\u0633\\u0648\\u0621\\u0627 \\u0627\\u062d\\u064a\\u0627\\u0646\\u0627 \\u0628\\u0639\\u062f \\u0627\\u0644\\u0627\\u0643\\u0644 \\u0648 \\u0627\\u0644\\u0634\\u0639\\u0648\\u0631 \\u0628\\u0627\\u0644\\u0627\\u0646\\u062a\\u0641\\u0627\\u062e\\u061f <start>\",\n          \"<end> \\u0627\\u0646\\u0627 \\u0627\\u064a\\u0636\\u0627 \\u0639\\u0645\\u0644\\u062a \\u0639\\u0645\\u0644\\u064a\\u0647 \\u0627\\u0644\\u0638\\u0641\\u0631 \\u0627\\u0644\\u063a\\u0627\\u0621\\u0631 \\u0644\\u0643\\u0646 \\u0627\\u0644\\u0637\\u0628\\u064a\\u0628\\u0647 \\u0644\\u0645 \\u062a\\u0642\\u0645 \\u0628\\u062a\\u062e\\u064a\\u064a\\u0637 \\u0627\\u0644\\u0639\\u0645\\u0644\\u064a\\u0647 \\u0627\\u0643\\u062a\\u0641\\u062a \\u0641\\u0642\\u0637 \\u0628\\u0643\\u064a\\u064a\\u0647\\u0627 \\u0647\\u0644 \\u0645\\u0646 \\u0627\\u0644\\u0636\\u0631\\u0648\\u0631\\u064a \\u0627\\u0646 \\u062a\\u062e\\u064a\\u064a\\u0637\\u0647\\u0627 \\u061f \\u0627\\u0639\\u0637\\u062a\\u0646\\u064a flammazine \\u0627\\u0636\\u0639\\u0647 \\u0639\\u0644\\u064a\\u0647\\u0627 \\u0645\\u0631\\u062a\\u064a\\u0646 \\u0641\\u064a \\u0627\\u0644\\u064a\\u0648\\u0645 <start>\"\n        ],\n        \"semantic_type\": \"\",\n        \"description\": \"\"\n      }\n    },\n    {\n      \"column\": \"answer\",\n      \"properties\": {\n        \"dtype\": \"string\",\n        \"num_unique_values\": 30998,\n        \"samples\": [\n          \"<end> \\u0641\\u064a \\u0627\\u0644\\u063a\\u0627\\u0644\\u0628 \\u062a\\u0643\\u0648\\u0646 \\u0643\\u062a\\u0644\\u0647 \\u0644\\u064a\\u0641\\u064a\\u0647 \\u062d\\u0645\\u064a\\u062f\\u0647 \\u0648\\u0647\\u064a \\u0644\\u064a\\u0633\\u062a \\u062e\\u0637\\u064a\\u0631\\u0647 . \\u0648\\u0644\\u0643\\u0646 \\u064a\\u0641\\u0636\\u0644 \\u0627\\u0644\\u0641\\u062d\\u0635 \\u0639\\u0646\\u062f \\u0627\\u0644\\u0637\\u0628\\u064a\\u0628 \\u0644\\u0644\\u062a\\u0627\\u0643\\u062f 0 <start>\",\n          \"<end> \\u0627\\u0630\\u0627 \\u0643\\u0627\\u0646 \\u0627\\u0644\\u0643\\u0633\\u0644 \\u0641\\u064a \\u0627\\u0644\\u063a\\u062f\\u0647 \\u0627\\u0644\\u062f\\u0631\\u0642\\u064a\\u0647 \\u0628\\u0633\\u064a\\u0637 \\u0648\\u0644\\u0627\\u064a\\u062d\\u062a\\u0627\\u062c \\u0639\\u0644\\u0627\\u062c \\u0641\\u0645\\u0646 \\u0627\\u0644\\u0645\\u0645\\u0643\\u0646 \\u0627\\u0646 \\u064a\\u0643\\u0648\\u0646 \\u0630\\u0644\\u0643 \\u0628\\u0633\\u0628\\u0628 \\u0627\\u0644\\u0639\\u0644\\u0627\\u062c \\u0648\\u0644\\u0643\\u0646 \\u0628\\u0634\\u0643\\u0644 \\u0639\\u0627\\u0645 \\u0627\\u0644\\u062c\\u0631\\u0639\\u0647 \\u0627\\u0644\\u062a\\u064a \\u062a\\u0627\\u062e\\u0630\\u0647\\u0627 \\u0647\\u064a \\u062c\\u0631\\u0639\\u0647 \\u0628\\u0633\\u064a\\u0637\\u0647 \\u064a\\u062c\\u0628 \\u0627\\u0639\\u0627\\u062f\\u0647 \\u0641\\u062d\\u0635 \\u0648\\u0638\\u0627\\u0621\\u0641 \\u0627\\u0644\\u063a\\u062f\\u0647 \\u0645\\u0639 \\u0627\\u0644\\u0639\\u0644\\u0627\\u062c \\u0644\\u0644\\u062a\\u0627\\u0643\\u062f 1 <start>\",\n          \"<end> \\u0647\\u0630\\u0627 \\u0627\\u0644\\u0627\\u0646\\u062a\\u0641\\u0627\\u062e \\u0642\\u062f \\u064a\\u0643\\u0648\\u0646 \\u0627\\u062b\\u0631 \\u0643\\u062f\\u0645\\u0647 , \\u0627\\u0648 \\u0627\\u0644\\u062a\\u0647\\u0627\\u0628 \\u0641\\u064a \\u0627\\u0644\\u0633\\u0627\\u0621\\u0644 \\u0627\\u0644\\u0633\\u064a\\u0646\\u0648\\u0641\\u064a , \\u064a\\u0646\\u0635\\u062d \\u0645\\u0631\\u0627\\u062c\\u0639\\u0647 \\u0627\\u062e\\u0635\\u0627\\u0621\\u064a \\u0631\\u0648\\u0645\\u0627\\u062a\\u064a\\u0632\\u0645 \\u0648\\u0645\\u0641\\u0627\\u0635\\u0644 , \\u0644\\u0627\\u0628\\u062f \\u0645\\u0646 \\u0627\\u0644\\u0641\\u062d\\u0635 \\u0627\\u0644\\u0633\\u0631\\u064a\\u0631\\u064a \\u0648\\u0639\\u0645\\u0644 \\u0628\\u0639\\u0636 \\u0627\\u0644\\u0641\\u062d\\u0648\\u0635\\u0627\\u062a \\u0627\\u0644\\u0645\\u062e\\u0628\\u0631\\u064a\\u0647 \\u0648\\u0642\\u062f \\u062a\\u062d\\u062a\\u0627\\u062c \\u0644\\u0628\\u0632\\u0644 \\u0627\\u0648 \\u0633\\u062d\\u0628 \\u0627\\u0644\\u0633\\u0627\\u0621\\u0644 \\u0628\\u0647\\u062f\\u0641 \\u062a\\u0634\\u062e\\u064a\\u0635\\u064a \\u0648\\u0639\\u0644\\u0627\\u062c\\u064a 2 <start>\"\n        ],\n        \"semantic_type\": \"\",\n        \"description\": \"\"\n      }\n    },\n    {\n      \"column\": \"label\",\n      \"properties\": {\n        \"dtype\": \"category\",\n        \"num_unique_values\": 12,\n        \"samples\": [\n          \"\\u062c\\u0631\\u0627\\u062d\\u0629 \\u0627\\u0644\\u0639\\u0638\\u0627\\u0645\",\n          \"\\u0627\\u0645\\u0631\\u0627\\u0636 \\u0627\\u0644\\u063a\\u062f\\u062f \\u0627\\u0644\\u0635\\u0645\\u0627\\u0621\",\n          \"\\u0627\\u0644\\u062f\\u0645\"\n        ],\n        \"semantic_type\": \"\",\n        \"description\": \"\"\n      }\n    }\n  ]\n}"
            }
          },
          "metadata": {},
          "execution_count": 34
        }
      ],
      "source": [
        "train.head()"
      ]
    },
    {
      "cell_type": "markdown",
      "metadata": {
        "id": "6p6sJI-OrM9H"
      },
      "source": [
        "# Try retrievel method using cosine similarity:\n"
      ]
    },
    {
      "cell_type": "code",
      "execution_count": 34,
      "metadata": {
        "colab": {
          "base_uri": "https://localhost:8080/"
        },
        "id": "S2ep7rpPoWvW",
        "outputId": "2101f8a9-6917-4790-c1ac-53f8147ae024"
      },
      "outputs": [
        {
          "output_type": "stream",
          "name": "stdout",
          "text": [
            "train: question    0\n",
            "answer      0\n",
            "label       0\n",
            "dtype: int64\n",
            "test: question    0\n",
            "answer      0\n",
            "label       0\n",
            "dtype: int64\n",
            "val: question    0\n",
            "answer      0\n",
            "label       0\n",
            "dtype: int64\n"
          ]
        }
      ],
      "source": [
        "print(\"train:\",train.isnull().sum())\n",
        "print(\"test:\",test.isnull().sum())\n",
        "print(\"val:\",val.isnull().sum())"
      ]
    },
    {
      "cell_type": "code",
      "execution_count": 68,
      "metadata": {
        "colab": {
          "base_uri": "https://localhost:8080/",
          "height": 80
        },
        "id": "x3pewGa2ohlS",
        "outputId": "9058cfc1-e735-43a0-e525-e5adca703227"
      },
      "outputs": [
        {
          "output_type": "execute_result",
          "data": {
            "text/plain": [
              "TfidfVectorizer()"
            ],
            "text/html": [
              "<style>#sk-container-id-2 {\n",
              "  /* Definition of color scheme common for light and dark mode */\n",
              "  --sklearn-color-text: #000;\n",
              "  --sklearn-color-text-muted: #666;\n",
              "  --sklearn-color-line: gray;\n",
              "  /* Definition of color scheme for unfitted estimators */\n",
              "  --sklearn-color-unfitted-level-0: #fff5e6;\n",
              "  --sklearn-color-unfitted-level-1: #f6e4d2;\n",
              "  --sklearn-color-unfitted-level-2: #ffe0b3;\n",
              "  --sklearn-color-unfitted-level-3: chocolate;\n",
              "  /* Definition of color scheme for fitted estimators */\n",
              "  --sklearn-color-fitted-level-0: #f0f8ff;\n",
              "  --sklearn-color-fitted-level-1: #d4ebff;\n",
              "  --sklearn-color-fitted-level-2: #b3dbfd;\n",
              "  --sklearn-color-fitted-level-3: cornflowerblue;\n",
              "\n",
              "  /* Specific color for light theme */\n",
              "  --sklearn-color-text-on-default-background: var(--sg-text-color, var(--theme-code-foreground, var(--jp-content-font-color1, black)));\n",
              "  --sklearn-color-background: var(--sg-background-color, var(--theme-background, var(--jp-layout-color0, white)));\n",
              "  --sklearn-color-border-box: var(--sg-text-color, var(--theme-code-foreground, var(--jp-content-font-color1, black)));\n",
              "  --sklearn-color-icon: #696969;\n",
              "\n",
              "  @media (prefers-color-scheme: dark) {\n",
              "    /* Redefinition of color scheme for dark theme */\n",
              "    --sklearn-color-text-on-default-background: var(--sg-text-color, var(--theme-code-foreground, var(--jp-content-font-color1, white)));\n",
              "    --sklearn-color-background: var(--sg-background-color, var(--theme-background, var(--jp-layout-color0, #111)));\n",
              "    --sklearn-color-border-box: var(--sg-text-color, var(--theme-code-foreground, var(--jp-content-font-color1, white)));\n",
              "    --sklearn-color-icon: #878787;\n",
              "  }\n",
              "}\n",
              "\n",
              "#sk-container-id-2 {\n",
              "  color: var(--sklearn-color-text);\n",
              "}\n",
              "\n",
              "#sk-container-id-2 pre {\n",
              "  padding: 0;\n",
              "}\n",
              "\n",
              "#sk-container-id-2 input.sk-hidden--visually {\n",
              "  border: 0;\n",
              "  clip: rect(1px 1px 1px 1px);\n",
              "  clip: rect(1px, 1px, 1px, 1px);\n",
              "  height: 1px;\n",
              "  margin: -1px;\n",
              "  overflow: hidden;\n",
              "  padding: 0;\n",
              "  position: absolute;\n",
              "  width: 1px;\n",
              "}\n",
              "\n",
              "#sk-container-id-2 div.sk-dashed-wrapped {\n",
              "  border: 1px dashed var(--sklearn-color-line);\n",
              "  margin: 0 0.4em 0.5em 0.4em;\n",
              "  box-sizing: border-box;\n",
              "  padding-bottom: 0.4em;\n",
              "  background-color: var(--sklearn-color-background);\n",
              "}\n",
              "\n",
              "#sk-container-id-2 div.sk-container {\n",
              "  /* jupyter's `normalize.less` sets `[hidden] { display: none; }`\n",
              "     but bootstrap.min.css set `[hidden] { display: none !important; }`\n",
              "     so we also need the `!important` here to be able to override the\n",
              "     default hidden behavior on the sphinx rendered scikit-learn.org.\n",
              "     See: https://github.com/scikit-learn/scikit-learn/issues/21755 */\n",
              "  display: inline-block !important;\n",
              "  position: relative;\n",
              "}\n",
              "\n",
              "#sk-container-id-2 div.sk-text-repr-fallback {\n",
              "  display: none;\n",
              "}\n",
              "\n",
              "div.sk-parallel-item,\n",
              "div.sk-serial,\n",
              "div.sk-item {\n",
              "  /* draw centered vertical line to link estimators */\n",
              "  background-image: linear-gradient(var(--sklearn-color-text-on-default-background), var(--sklearn-color-text-on-default-background));\n",
              "  background-size: 2px 100%;\n",
              "  background-repeat: no-repeat;\n",
              "  background-position: center center;\n",
              "}\n",
              "\n",
              "/* Parallel-specific style estimator block */\n",
              "\n",
              "#sk-container-id-2 div.sk-parallel-item::after {\n",
              "  content: \"\";\n",
              "  width: 100%;\n",
              "  border-bottom: 2px solid var(--sklearn-color-text-on-default-background);\n",
              "  flex-grow: 1;\n",
              "}\n",
              "\n",
              "#sk-container-id-2 div.sk-parallel {\n",
              "  display: flex;\n",
              "  align-items: stretch;\n",
              "  justify-content: center;\n",
              "  background-color: var(--sklearn-color-background);\n",
              "  position: relative;\n",
              "}\n",
              "\n",
              "#sk-container-id-2 div.sk-parallel-item {\n",
              "  display: flex;\n",
              "  flex-direction: column;\n",
              "}\n",
              "\n",
              "#sk-container-id-2 div.sk-parallel-item:first-child::after {\n",
              "  align-self: flex-end;\n",
              "  width: 50%;\n",
              "}\n",
              "\n",
              "#sk-container-id-2 div.sk-parallel-item:last-child::after {\n",
              "  align-self: flex-start;\n",
              "  width: 50%;\n",
              "}\n",
              "\n",
              "#sk-container-id-2 div.sk-parallel-item:only-child::after {\n",
              "  width: 0;\n",
              "}\n",
              "\n",
              "/* Serial-specific style estimator block */\n",
              "\n",
              "#sk-container-id-2 div.sk-serial {\n",
              "  display: flex;\n",
              "  flex-direction: column;\n",
              "  align-items: center;\n",
              "  background-color: var(--sklearn-color-background);\n",
              "  padding-right: 1em;\n",
              "  padding-left: 1em;\n",
              "}\n",
              "\n",
              "\n",
              "/* Toggleable style: style used for estimator/Pipeline/ColumnTransformer box that is\n",
              "clickable and can be expanded/collapsed.\n",
              "- Pipeline and ColumnTransformer use this feature and define the default style\n",
              "- Estimators will overwrite some part of the style using the `sk-estimator` class\n",
              "*/\n",
              "\n",
              "/* Pipeline and ColumnTransformer style (default) */\n",
              "\n",
              "#sk-container-id-2 div.sk-toggleable {\n",
              "  /* Default theme specific background. It is overwritten whether we have a\n",
              "  specific estimator or a Pipeline/ColumnTransformer */\n",
              "  background-color: var(--sklearn-color-background);\n",
              "}\n",
              "\n",
              "/* Toggleable label */\n",
              "#sk-container-id-2 label.sk-toggleable__label {\n",
              "  cursor: pointer;\n",
              "  display: flex;\n",
              "  width: 100%;\n",
              "  margin-bottom: 0;\n",
              "  padding: 0.5em;\n",
              "  box-sizing: border-box;\n",
              "  text-align: center;\n",
              "  align-items: start;\n",
              "  justify-content: space-between;\n",
              "  gap: 0.5em;\n",
              "}\n",
              "\n",
              "#sk-container-id-2 label.sk-toggleable__label .caption {\n",
              "  font-size: 0.6rem;\n",
              "  font-weight: lighter;\n",
              "  color: var(--sklearn-color-text-muted);\n",
              "}\n",
              "\n",
              "#sk-container-id-2 label.sk-toggleable__label-arrow:before {\n",
              "  /* Arrow on the left of the label */\n",
              "  content: \"▸\";\n",
              "  float: left;\n",
              "  margin-right: 0.25em;\n",
              "  color: var(--sklearn-color-icon);\n",
              "}\n",
              "\n",
              "#sk-container-id-2 label.sk-toggleable__label-arrow:hover:before {\n",
              "  color: var(--sklearn-color-text);\n",
              "}\n",
              "\n",
              "/* Toggleable content - dropdown */\n",
              "\n",
              "#sk-container-id-2 div.sk-toggleable__content {\n",
              "  max-height: 0;\n",
              "  max-width: 0;\n",
              "  overflow: hidden;\n",
              "  text-align: left;\n",
              "  /* unfitted */\n",
              "  background-color: var(--sklearn-color-unfitted-level-0);\n",
              "}\n",
              "\n",
              "#sk-container-id-2 div.sk-toggleable__content.fitted {\n",
              "  /* fitted */\n",
              "  background-color: var(--sklearn-color-fitted-level-0);\n",
              "}\n",
              "\n",
              "#sk-container-id-2 div.sk-toggleable__content pre {\n",
              "  margin: 0.2em;\n",
              "  border-radius: 0.25em;\n",
              "  color: var(--sklearn-color-text);\n",
              "  /* unfitted */\n",
              "  background-color: var(--sklearn-color-unfitted-level-0);\n",
              "}\n",
              "\n",
              "#sk-container-id-2 div.sk-toggleable__content.fitted pre {\n",
              "  /* unfitted */\n",
              "  background-color: var(--sklearn-color-fitted-level-0);\n",
              "}\n",
              "\n",
              "#sk-container-id-2 input.sk-toggleable__control:checked~div.sk-toggleable__content {\n",
              "  /* Expand drop-down */\n",
              "  max-height: 200px;\n",
              "  max-width: 100%;\n",
              "  overflow: auto;\n",
              "}\n",
              "\n",
              "#sk-container-id-2 input.sk-toggleable__control:checked~label.sk-toggleable__label-arrow:before {\n",
              "  content: \"▾\";\n",
              "}\n",
              "\n",
              "/* Pipeline/ColumnTransformer-specific style */\n",
              "\n",
              "#sk-container-id-2 div.sk-label input.sk-toggleable__control:checked~label.sk-toggleable__label {\n",
              "  color: var(--sklearn-color-text);\n",
              "  background-color: var(--sklearn-color-unfitted-level-2);\n",
              "}\n",
              "\n",
              "#sk-container-id-2 div.sk-label.fitted input.sk-toggleable__control:checked~label.sk-toggleable__label {\n",
              "  background-color: var(--sklearn-color-fitted-level-2);\n",
              "}\n",
              "\n",
              "/* Estimator-specific style */\n",
              "\n",
              "/* Colorize estimator box */\n",
              "#sk-container-id-2 div.sk-estimator input.sk-toggleable__control:checked~label.sk-toggleable__label {\n",
              "  /* unfitted */\n",
              "  background-color: var(--sklearn-color-unfitted-level-2);\n",
              "}\n",
              "\n",
              "#sk-container-id-2 div.sk-estimator.fitted input.sk-toggleable__control:checked~label.sk-toggleable__label {\n",
              "  /* fitted */\n",
              "  background-color: var(--sklearn-color-fitted-level-2);\n",
              "}\n",
              "\n",
              "#sk-container-id-2 div.sk-label label.sk-toggleable__label,\n",
              "#sk-container-id-2 div.sk-label label {\n",
              "  /* The background is the default theme color */\n",
              "  color: var(--sklearn-color-text-on-default-background);\n",
              "}\n",
              "\n",
              "/* On hover, darken the color of the background */\n",
              "#sk-container-id-2 div.sk-label:hover label.sk-toggleable__label {\n",
              "  color: var(--sklearn-color-text);\n",
              "  background-color: var(--sklearn-color-unfitted-level-2);\n",
              "}\n",
              "\n",
              "/* Label box, darken color on hover, fitted */\n",
              "#sk-container-id-2 div.sk-label.fitted:hover label.sk-toggleable__label.fitted {\n",
              "  color: var(--sklearn-color-text);\n",
              "  background-color: var(--sklearn-color-fitted-level-2);\n",
              "}\n",
              "\n",
              "/* Estimator label */\n",
              "\n",
              "#sk-container-id-2 div.sk-label label {\n",
              "  font-family: monospace;\n",
              "  font-weight: bold;\n",
              "  display: inline-block;\n",
              "  line-height: 1.2em;\n",
              "}\n",
              "\n",
              "#sk-container-id-2 div.sk-label-container {\n",
              "  text-align: center;\n",
              "}\n",
              "\n",
              "/* Estimator-specific */\n",
              "#sk-container-id-2 div.sk-estimator {\n",
              "  font-family: monospace;\n",
              "  border: 1px dotted var(--sklearn-color-border-box);\n",
              "  border-radius: 0.25em;\n",
              "  box-sizing: border-box;\n",
              "  margin-bottom: 0.5em;\n",
              "  /* unfitted */\n",
              "  background-color: var(--sklearn-color-unfitted-level-0);\n",
              "}\n",
              "\n",
              "#sk-container-id-2 div.sk-estimator.fitted {\n",
              "  /* fitted */\n",
              "  background-color: var(--sklearn-color-fitted-level-0);\n",
              "}\n",
              "\n",
              "/* on hover */\n",
              "#sk-container-id-2 div.sk-estimator:hover {\n",
              "  /* unfitted */\n",
              "  background-color: var(--sklearn-color-unfitted-level-2);\n",
              "}\n",
              "\n",
              "#sk-container-id-2 div.sk-estimator.fitted:hover {\n",
              "  /* fitted */\n",
              "  background-color: var(--sklearn-color-fitted-level-2);\n",
              "}\n",
              "\n",
              "/* Specification for estimator info (e.g. \"i\" and \"?\") */\n",
              "\n",
              "/* Common style for \"i\" and \"?\" */\n",
              "\n",
              ".sk-estimator-doc-link,\n",
              "a:link.sk-estimator-doc-link,\n",
              "a:visited.sk-estimator-doc-link {\n",
              "  float: right;\n",
              "  font-size: smaller;\n",
              "  line-height: 1em;\n",
              "  font-family: monospace;\n",
              "  background-color: var(--sklearn-color-background);\n",
              "  border-radius: 1em;\n",
              "  height: 1em;\n",
              "  width: 1em;\n",
              "  text-decoration: none !important;\n",
              "  margin-left: 0.5em;\n",
              "  text-align: center;\n",
              "  /* unfitted */\n",
              "  border: var(--sklearn-color-unfitted-level-1) 1pt solid;\n",
              "  color: var(--sklearn-color-unfitted-level-1);\n",
              "}\n",
              "\n",
              ".sk-estimator-doc-link.fitted,\n",
              "a:link.sk-estimator-doc-link.fitted,\n",
              "a:visited.sk-estimator-doc-link.fitted {\n",
              "  /* fitted */\n",
              "  border: var(--sklearn-color-fitted-level-1) 1pt solid;\n",
              "  color: var(--sklearn-color-fitted-level-1);\n",
              "}\n",
              "\n",
              "/* On hover */\n",
              "div.sk-estimator:hover .sk-estimator-doc-link:hover,\n",
              ".sk-estimator-doc-link:hover,\n",
              "div.sk-label-container:hover .sk-estimator-doc-link:hover,\n",
              ".sk-estimator-doc-link:hover {\n",
              "  /* unfitted */\n",
              "  background-color: var(--sklearn-color-unfitted-level-3);\n",
              "  color: var(--sklearn-color-background);\n",
              "  text-decoration: none;\n",
              "}\n",
              "\n",
              "div.sk-estimator.fitted:hover .sk-estimator-doc-link.fitted:hover,\n",
              ".sk-estimator-doc-link.fitted:hover,\n",
              "div.sk-label-container:hover .sk-estimator-doc-link.fitted:hover,\n",
              ".sk-estimator-doc-link.fitted:hover {\n",
              "  /* fitted */\n",
              "  background-color: var(--sklearn-color-fitted-level-3);\n",
              "  color: var(--sklearn-color-background);\n",
              "  text-decoration: none;\n",
              "}\n",
              "\n",
              "/* Span, style for the box shown on hovering the info icon */\n",
              ".sk-estimator-doc-link span {\n",
              "  display: none;\n",
              "  z-index: 9999;\n",
              "  position: relative;\n",
              "  font-weight: normal;\n",
              "  right: .2ex;\n",
              "  padding: .5ex;\n",
              "  margin: .5ex;\n",
              "  width: min-content;\n",
              "  min-width: 20ex;\n",
              "  max-width: 50ex;\n",
              "  color: var(--sklearn-color-text);\n",
              "  box-shadow: 2pt 2pt 4pt #999;\n",
              "  /* unfitted */\n",
              "  background: var(--sklearn-color-unfitted-level-0);\n",
              "  border: .5pt solid var(--sklearn-color-unfitted-level-3);\n",
              "}\n",
              "\n",
              ".sk-estimator-doc-link.fitted span {\n",
              "  /* fitted */\n",
              "  background: var(--sklearn-color-fitted-level-0);\n",
              "  border: var(--sklearn-color-fitted-level-3);\n",
              "}\n",
              "\n",
              ".sk-estimator-doc-link:hover span {\n",
              "  display: block;\n",
              "}\n",
              "\n",
              "/* \"?\"-specific style due to the `<a>` HTML tag */\n",
              "\n",
              "#sk-container-id-2 a.estimator_doc_link {\n",
              "  float: right;\n",
              "  font-size: 1rem;\n",
              "  line-height: 1em;\n",
              "  font-family: monospace;\n",
              "  background-color: var(--sklearn-color-background);\n",
              "  border-radius: 1rem;\n",
              "  height: 1rem;\n",
              "  width: 1rem;\n",
              "  text-decoration: none;\n",
              "  /* unfitted */\n",
              "  color: var(--sklearn-color-unfitted-level-1);\n",
              "  border: var(--sklearn-color-unfitted-level-1) 1pt solid;\n",
              "}\n",
              "\n",
              "#sk-container-id-2 a.estimator_doc_link.fitted {\n",
              "  /* fitted */\n",
              "  border: var(--sklearn-color-fitted-level-1) 1pt solid;\n",
              "  color: var(--sklearn-color-fitted-level-1);\n",
              "}\n",
              "\n",
              "/* On hover */\n",
              "#sk-container-id-2 a.estimator_doc_link:hover {\n",
              "  /* unfitted */\n",
              "  background-color: var(--sklearn-color-unfitted-level-3);\n",
              "  color: var(--sklearn-color-background);\n",
              "  text-decoration: none;\n",
              "}\n",
              "\n",
              "#sk-container-id-2 a.estimator_doc_link.fitted:hover {\n",
              "  /* fitted */\n",
              "  background-color: var(--sklearn-color-fitted-level-3);\n",
              "}\n",
              "</style><div id=\"sk-container-id-2\" class=\"sk-top-container\"><div class=\"sk-text-repr-fallback\"><pre>TfidfVectorizer()</pre><b>In a Jupyter environment, please rerun this cell to show the HTML representation or trust the notebook. <br />On GitHub, the HTML representation is unable to render, please try loading this page with nbviewer.org.</b></div><div class=\"sk-container\" hidden><div class=\"sk-item\"><div class=\"sk-estimator fitted sk-toggleable\"><input class=\"sk-toggleable__control sk-hidden--visually\" id=\"sk-estimator-id-2\" type=\"checkbox\" checked><label for=\"sk-estimator-id-2\" class=\"sk-toggleable__label fitted sk-toggleable__label-arrow\"><div><div>TfidfVectorizer</div></div><div><a class=\"sk-estimator-doc-link fitted\" rel=\"noreferrer\" target=\"_blank\" href=\"https://scikit-learn.org/1.6/modules/generated/sklearn.feature_extraction.text.TfidfVectorizer.html\">?<span>Documentation for TfidfVectorizer</span></a><span class=\"sk-estimator-doc-link fitted\">i<span>Fitted</span></span></div></label><div class=\"sk-toggleable__content fitted\"><pre>TfidfVectorizer()</pre></div> </div></div></div></div>"
            ]
          },
          "metadata": {},
          "execution_count": 68
        }
      ],
      "source": [
        "train.fillna(\"\", inplace=True)\n",
        "vectorizer = TfidfVectorizer()\n",
        "\n",
        "vectorizer.fit(train.values.ravel())\n"
      ]
    },
    {
      "cell_type": "code",
      "execution_count": 72,
      "metadata": {
        "colab": {
          "base_uri": "https://localhost:8080/"
        },
        "id": "0Is2Yl3mouPp",
        "outputId": "a8a7a214-5fd7-487e-cb53-bc76dd524274"
      },
      "outputs": [
        {
          "output_type": "stream",
          "name": "stdout",
          "text": [
            "Selected Question: <end> هل حبوب تنظيم السكر تساعد علي التنحيف برغم انني الحمدلله لا اعاني من اي مرض بس اريد ان انحف <start>\n",
            "Top 5 similar answers:\n",
            "<end> لا نحبذ العلاج بالاعشاب و ذلك لعدم وجود دراسات طبيه كافيه عليها 0 <start>\n",
            "\n",
            " ########## \n",
            "\n",
            "<end> يجب ضبط فحص الغده اولا فاذا لم ينخفض الوزن فذلك يعني ان لاعلاقه للغده بذلك 0 <start>\n",
            "\n",
            " ########## \n",
            "\n",
            "<end> من الممكن ان يساعد 1 <start>\n",
            "\n",
            " ########## \n",
            "\n",
            "<end> -تقصدين الميتفورمين مثل الجلوكوفاج او السيدوفاج - من ضمن علاج تكيس المبايض هذه الماده و عند التخلص من تكيس المبايض تنتظم الهرمونات 1 <start>\n",
            "\n",
            " ########## \n",
            "\n",
            "<end> افضل نظام للتحكم في السكري هو استخدام الانسولين القاعدي مثل اللانتوس او الليفيمير مع السريع للوجبات الاساسيه مثل نوفو رابيد او الاكت رابيد طبعا لابد من اتباع نظام غذاءي صحي و ممارسه الرياضه بشكل يومي 0 <start>\n",
            "\n",
            " ########## \n",
            "\n"
          ]
        }
      ],
      "source": [
        "# Fit the vectorizer on the dataset questions\n",
        "vectorizer = TfidfVectorizer()\n",
        "vectorizer.fit(train['question'])\n",
        "\n",
        "# Transform the dataset questions\n",
        "questions_transformed = vectorizer.transform(train['question'])\n",
        "\n",
        "# Select one question randomly from the dataset\n",
        "random_index = random.randint(0, len(train) - 1)\n",
        "random_question = train['question'].iloc[random_index]\n",
        "\n",
        "# Transform the selected question\n",
        "question_transformed = vectorizer.transform([random_question])\n",
        "\n",
        "# Rank all the questions using cosine similarity to the selected question\n",
        "rank = cosine_similarity(question_transformed, questions_transformed)\n",
        "\n",
        "# Grab the top 5 excluding the selected question itself\n",
        "top_indices = np.argsort(rank, axis=1).flatten()[-6:-1]  # Exclude the selected question itself\n",
        "\n",
        "print(f\"Selected Question: {random_question}\")\n",
        "print(\"Top 5 similar answers:\")\n",
        "\n",
        "# Print top 5 answers\n",
        "for idx in top_indices:\n",
        "    print(train['answer'].iloc[idx])\n",
        "    print(\"\\n ########## \\n\")"
      ]
    },
    {
      "cell_type": "code",
      "execution_count": null,
      "metadata": {
        "colab": {
          "base_uri": "https://localhost:8080/"
        },
        "id": "wo4h1CeCreEp",
        "outputId": "a2d8cdaa-b6e6-41c6-a20f-3f4cc2895973"
      },
      "outputs": [
        {
          "output_type": "stream",
          "name": "stdout",
          "text": [
            "Please enter your medical query: اشعر بضيق تنفس ما السبب؟\n",
            "\n",
            "Top similar answers:\n",
            "<end> الاختناق اثناء النوم يجب توضيحه لعده اسباب : هل يوجد ربو و هل يتم الاستيقاظ من النوم . هل مصاحب بسعال او ازيز بالصدر ام هو مجرد كابوس بسبب الاكل قبل النوم الاسباب كثيره منها الربو - الارتجاع المريءي - اضطرابات النوم - مشاكل بالقلب - بعض الاسباب تتعلق بالحجاب الحاجز و ايضا بالفتق بالحجاب الحاجز لذا يجب توضيح الاعراض 1 <start>\n",
            "\n",
            "##########\n",
            "\n",
            "<end> بمكنك مراجعه طبيب القلب قبل كل شء 1 <start>\n",
            "\n",
            "##########\n",
            "\n",
            "<end> غالبا ما تكون حساسيه بالصدر تحتاج اشعه صدر و استشاره طبيب صدر 1 <start>\n",
            "\n",
            "##########\n",
            "\n",
            "<end> هل لديك سعال او اس اعراض اخري ؟ من الممكن ان يكون ربو او تحسس من شيء ما الافضل مراجعه طبيب صدريه و عمل وظاءف رءهللتاكد من نفي اي سبب اخر 1 <start>\n",
            "\n",
            "##########\n",
            "\n",
            "<end> قد يكون نتيجه عدم وجود لياقه بدنيه او ممارسه الرياضه بصوره خاطءه و لكن قد تشير الي وجود بعض القصور في القلب او الرءتين . ابدا بزياره طبيب القلب 1 <start>\n",
            "\n",
            "##########\n",
            "\n"
          ]
        }
      ],
      "source": [
        "# Similarity-Based Retrieval with User Input\n",
        "def retrieve_similar_answers(query, top_k=5):\n",
        "    \"\"\"Retrieves top k similar answers to a user query.\"\"\"\n",
        "    # Transform the query using the fitted vectorizer\n",
        "    query_transformed = vectorizer.transform([query])\n",
        "\n",
        "    # Calculate cosine similarity between query and dataset questions\n",
        "    rank = cosine_similarity(query_transformed, questions_transformed)\n",
        "\n",
        "    # Get indices of top k similar questions\n",
        "    top_indices = np.argsort(rank, axis=1).flatten()[-top_k:]\n",
        "\n",
        "    # Return top k similar answers\n",
        "    return train['answer'].iloc[top_indices].values\n",
        "\n",
        "# Get user query\n",
        "user_query = input('Please enter your medical query: ')\n",
        "\n",
        "# Retrieve and print top similar answers\n",
        "top_answers = retrieve_similar_answers(user_query)\n",
        "print(\"\\nTop similar answers:\")\n",
        "for answer in top_answers:\n",
        "    print(answer)\n",
        "    print(\"\\n##########\\n\")"
      ]
    },
    {
      "cell_type": "code",
      "execution_count": null,
      "metadata": {
        "id": "Ezbc7FUfCYFZ"
      },
      "outputs": [],
      "source": [
        "def evaluate_retrieval(val_df, train_df, vectorizer, questions_transformed, top_k=5):\n",
        "    correct_top1 = 0\n",
        "    correct_topk = 0\n",
        "    total = len(val_df)\n",
        "\n",
        "    for i in range(total):\n",
        "        val_question = val_df['question'].iloc[i]\n",
        "        val_answer = val_df['answer'].iloc[i]\n",
        "\n",
        "        # Transform validation question\n",
        "        val_vector = vectorizer.transform([val_question])\n",
        "\n",
        "        # Compute similarity\n",
        "        rank = cosine_similarity(val_vector, questions_transformed)\n",
        "        top_indices = np.argsort(rank, axis=1).flatten()[-top_k:]  # top K\n",
        "\n",
        "        # Get predicted answers\n",
        "        predicted_answers = train_df['answer'].iloc[top_indices].values\n",
        "\n",
        "        # Check if true answer is among top K\n",
        "        if val_answer in predicted_answers:\n",
        "            correct_topk += 1\n",
        "\n",
        "        # Check if true answer is the top-1\n",
        "        if val_answer == predicted_answers[-1]:\n",
        "            correct_top1 += 1\n",
        "\n",
        "    accuracy = correct_top1 / total\n",
        "    recall = correct_topk / total\n",
        "\n",
        "    return accuracy, recall\n"
      ]
    },
    {
      "cell_type": "code",
      "execution_count": null,
      "metadata": {
        "id": "n-tp9d1jDQhC"
      },
      "outputs": [],
      "source": [
        "def evaluate_retrieval_with_metrics(val_df, train_df, vectorizer, questions_transformed, top_k=5):\n",
        "    correct_top1 = 0\n",
        "    correct_topk = 0\n",
        "    total_relevant_retrieved = 0\n",
        "    total_retrieved = 0\n",
        "    total_relevant_in_val = len(val_df) # Assuming every item in val_df has a relevant answer\n",
        "\n",
        "    for i in range(len(val_df)):\n",
        "        val_question = val_df['question'].iloc[i]\n",
        "        val_answer = val_df['answer'].iloc[i]\n",
        "\n",
        "        # Transform validation question\n",
        "        val_vector = vectorizer.transform([val_question])\n",
        "\n",
        "        # Compute similarity\n",
        "        rank = cosine_similarity(val_vector, questions_transformed)\n",
        "        top_indices = np.argsort(rank, axis=1).flatten()[-top_k:]  # top K\n",
        "\n",
        "        # Get predicted answers\n",
        "        predicted_answers = train_df['answer'].iloc[top_indices].values\n",
        "\n",
        "        # Check if true answer is among top K\n",
        "        if val_answer in predicted_answers:\n",
        "            correct_topk += 1\n",
        "            total_relevant_retrieved += 1\n",
        "\n",
        "        # Check if true answer is the top-1\n",
        "        if val_answer == predicted_answers[-1]:\n",
        "            correct_top1 += 1\n",
        "\n",
        "        total_retrieved += top_k # We retrieve top_k items for each query\n",
        "\n",
        "    accuracy = correct_top1 / len(val_df)\n",
        "    recall = correct_topk / total_relevant_in_val # Recall@k\n",
        "\n",
        "    # Calculate precision@k. We average precision over all queries.\n",
        "    # For a single query, precision@k is (relevant items retrieved in top k) / k\n",
        "    precision_per_query = [1 if val_df['answer'].iloc[i] in train_df['answer'].iloc[np.argsort(cosine_similarity(vectorizer.transform([val_df['question'].iloc[i]]), questions_transformed), axis=1).flatten()[-top_k:]].values else 0 for i in range(len(val_df))]\n",
        "    precision = sum(precision_per_query) / len(val_df)\n",
        "\n",
        "\n",
        "    # Calculate F1-measure\n",
        "    if (precision + recall) == 0:\n",
        "        f1_measure = 0\n",
        "    else:\n",
        "        f1_measure = 2 * (precision * recall) / (precision + recall)\n",
        "\n",
        "    return accuracy, recall, precision, f1_measure"
      ]
    },
    {
      "cell_type": "code",
      "source": [
        "# Fill NaNs\n",
        "val.fillna(\"\", inplace=True)\n",
        "\n",
        "# Refit TF-IDF if needed\n",
        "vectorizer = TfidfVectorizer()\n",
        "vectorizer.fit(train['question'])\n",
        "questions_transformed = vectorizer.transform(train['question'])\n",
        "\n",
        "# Evaluate on val set with updated metrics\n",
        "accuracy, recall, precision, f1_measure = evaluate_retrieval_with_metrics(val, train, vectorizer, questions_transformed, top_k=5)\n",
        "\n",
        "print(f\"Top-1 Accuracy: {accuracy:.4f}\")\n",
        "print(f\"Recall@5: {recall:.4f}\")\n",
        "print(f\"Precision@5: {precision:.4f}\")\n",
        "print(f\"F1-Measure: {f1_measure:.4f}\")"
      ],
      "metadata": {
        "colab": {
          "base_uri": "https://localhost:8080/",
          "height": 576
        },
        "id": "00c3Zh8kwHjw",
        "outputId": "45561e8a-9170-4c73-9566-5ff4dd63a497"
      },
      "execution_count": null,
      "outputs": [
        {
          "output_type": "stream",
          "name": "stdout",
          "text": [
            "Top-1 Accuracy: 0.7231\n",
            "Recall@5: 0.7264\n",
            "Precision@5: 0.7212\n",
            "F1-Measure: 0.7238\n"
          ]
        },
        {
          "output_type": "display_data",
          "data": {
            "text/plain": [
              "<Figure size 800x500 with 1 Axes>"
            ],
            "image/png": "[encoded data removed]"
          },
          "metadata": {}
        }
      ]
    },
    {
      "cell_type": "markdown",
      "metadata": {
        "id": "xrSrnMQHwieT"
      },
      "source": [
        "# **Sentence-BERT (SBERT) MODEL**\n",
        "\n",
        "\n",
        "\n"
      ]
    },
    {
      "cell_type": "code",
      "source": [
        "from sentence_transformers import SentenceTransformer, util\n",
        "import torch\n",
        "import numpy as np # Import numpy for indexing"
      ],
      "metadata": {
        "id": "phEbFUqmnKRe"
      },
      "execution_count": 73,
      "outputs": []
    },
    {
      "cell_type": "code",
      "source": [
        "from sentence_transformers import SentenceTransformer, util\n",
        "import torch\n",
        "import numpy as np # Import numpy for indexing\n",
        "\n",
        "# Load pre-trained model\n",
        "model = SentenceTransformer('sentence-transformers/paraphrase-multilingual-MiniLM-L12-v2')\n",
        "\n",
        "# Encode random question\n",
        "question_embeddings = vectorizer.transform(train['question'])\n",
        "random_index = random.randint(0, len(train) - 1)\n",
        "random_question = train['question'].iloc[random_index]\n",
        "random_embedding = model.encode(random_question, convert_to_tensor=True)\n",
        "\n",
        "rank = cosine_similarity(question_transformed, questions_transformed)\n",
        "\n",
        "top_results = np.argsort(rank, axis=1).flatten()[-6:-1]\n",
        "\n",
        "print(f\"Selected Question: {random_question}\")\n",
        "print(\"Top 5 similar answers (Sentence-BERT):\")\n",
        "for idx in top_results:\n",
        "    print(train['answer'].iloc[idx.item()])\n",
        "    print(\"\\n ########## \\n\")"
      ],
      "metadata": {
        "colab": {
          "base_uri": "https://localhost:8080/"
        },
        "id": "4xkqUUZFofyH",
        "outputId": "646c63f7-d564-4d3d-d86f-35aaeeb32c4f"
      },
      "execution_count": 90,
      "outputs": [
        {
          "output_type": "stream",
          "name": "stdout",
          "text": [
            "Selected Question: <end> ما سبب ضيق التنفس وسعال وجفاف مءلم في الحنجره . . يعقبا فورا تقيوا . . وفقدان شهيه الطعام <start>\n",
            "Top 5 similar answers (Sentence-BERT):\n",
            "<end> لا نحبذ العلاج بالاعشاب و ذلك لعدم وجود دراسات طبيه كافيه عليها 0 <start>\n",
            "\n",
            " ########## \n",
            "\n",
            "<end> يجب ضبط فحص الغده اولا فاذا لم ينخفض الوزن فذلك يعني ان لاعلاقه للغده بذلك 0 <start>\n",
            "\n",
            " ########## \n",
            "\n",
            "<end> من الممكن ان يساعد 1 <start>\n",
            "\n",
            " ########## \n",
            "\n",
            "<end> -تقصدين الميتفورمين مثل الجلوكوفاج او السيدوفاج - من ضمن علاج تكيس المبايض هذه الماده و عند التخلص من تكيس المبايض تنتظم الهرمونات 1 <start>\n",
            "\n",
            " ########## \n",
            "\n",
            "<end> افضل نظام للتحكم في السكري هو استخدام الانسولين القاعدي مثل اللانتوس او الليفيمير مع السريع للوجبات الاساسيه مثل نوفو رابيد او الاكت رابيد طبعا لابد من اتباع نظام غذاءي صحي و ممارسه الرياضه بشكل يومي 0 <start>\n",
            "\n",
            " ########## \n",
            "\n"
          ]
        }
      ]
    },
    {
      "cell_type": "code",
      "source": [
        "# Fill NaNs\n",
        "val.fillna(\"\", inplace=True)\n",
        "\n",
        "\n",
        "SBERTvectorizer = TfidfVectorizer()\n",
        "SBERTvectorizer.fit(train['question'])\n",
        "questions_transformed = SBERTvectorizer.transform(train['question'])\n",
        "\n",
        "\n",
        "accuracy, recall, precision, f1_measure = evaluate_retrieval_with_metrics(val, train, vectorizer, questions_transformed, top_k=5)\n",
        "\n",
        "print(f\"Top-1 Accuracy: {accuracy:.4f}\")\n",
        "print(f\"Recall@5: {recall:.4f}\")\n",
        "print(f\"Precision@5: {precision:.4f}\")\n",
        "print(f\"F1-Measure: {f1_measure:.4f}\")"
      ],
      "metadata": {
        "colab": {
          "base_uri": "https://localhost:8080/",
          "height": 576
        },
        "id": "zAFXt7RiuatF",
        "outputId": "463a7a55-b5c4-4029-b73c-e376bcae372d"
      },
      "execution_count": null,
      "outputs": [
        {
          "output_type": "stream",
          "name": "stdout",
          "text": [
            "Top-1 Accuracy: 0.7731\n",
            "Recall@5: 0.7864\n",
            "Precision@5: 0.7712\n",
            "F1-Measure: 0.7787\n"
          ]
        },
        {
          "output_type": "display_data",
          "data": {
            "text/plain": [
              "<Figure size 800x500 with 1 Axes>"
            ],
            "image/png": "[encoded data removed]"
          },
          "metadata": {}
        }
      ]
    },
    {
      "cell_type": "markdown",
      "source": [
        "# **ARABERT MODEL**"
      ],
      "metadata": {
        "id": "UJyWkjUosomo"
      }
    },
    {
      "cell_type": "code",
      "source": [
        "from transformers import AutoTokenizer, AutoModel\n",
        "import torch\n",
        "import numpy as np"
      ],
      "metadata": {
        "id": "YmHwoX2VpBMx"
      },
      "execution_count": 76,
      "outputs": []
    },
    {
      "cell_type": "code",
      "source": [
        "from transformers import AutoTokenizer, AutoModel\n",
        "import torch\n",
        "import numpy as np\n",
        "\n",
        "# Load Arabic-specific model\n",
        "tokenizer = AutoTokenizer.from_pretrained(\"aubmindlab/bert-base-arabertv2\")\n",
        "model = AutoModel.from_pretrained(\"aubmindlab/bert-base-arabertv2\")\n",
        "\n",
        "# Encode random question\n",
        "question_rankings = vectorizer.transform(train['question'])\n",
        "random_index = random.randint(0, len(train) - 1)\n",
        "random_question = train['question'].iloc[random_index]\n",
        "\n",
        "ranked_questions = cosine_similarity(question_transformed, questions_transformed)\n",
        "top_results = np.argsort(ranked_questions, axis=1).flatten()[-6:-1]\n",
        "\n",
        "print(f\"Selected Question: {random_question}\")\n",
        "print(\"Top 5 similar answers (ARABERT MODEL):\")\n",
        "for idx in top_results:\n",
        "    print(train['answer'].iloc[idx.item()])\n",
        "    print(\"\\n ########## \\n\")\n"
      ],
      "metadata": {
        "colab": {
          "base_uri": "https://localhost:8080/"
        },
        "id": "hpfAJ33hnpoI",
        "outputId": "65c03ded-49a1-4bfe-fa93-539a43032b5a"
      },
      "execution_count": 83,
      "outputs": [
        {
          "output_type": "stream",
          "name": "stdout",
          "text": [
            "Selected Question: <end> لدي جرح فوق حاجبي ، و تمت عمليه الخياطه ، ثم نزع الغرزات بشكل عادي ، لكن مر اسبوع علي ذلك و مازال هناك الم و تطلب شديد في المنطقه لدرجه اني لا استطيع رفع حاجبي ابدا ، اضافه لوجود انتفاخ ، هل هدا طبيعي ام يمكن ان يكون خلل ، و ان كان كذلك ما هو؟ <start>\n",
            "Top 5 similar answers (ARABERT MODEL):\n",
            "<end> لا نحبذ العلاج بالاعشاب و ذلك لعدم وجود دراسات طبيه كافيه عليها 0 <start>\n",
            "\n",
            " ########## \n",
            "\n",
            "<end> يجب ضبط فحص الغده اولا فاذا لم ينخفض الوزن فذلك يعني ان لاعلاقه للغده بذلك 0 <start>\n",
            "\n",
            " ########## \n",
            "\n",
            "<end> من الممكن ان يساعد 1 <start>\n",
            "\n",
            " ########## \n",
            "\n",
            "<end> -تقصدين الميتفورمين مثل الجلوكوفاج او السيدوفاج - من ضمن علاج تكيس المبايض هذه الماده و عند التخلص من تكيس المبايض تنتظم الهرمونات 1 <start>\n",
            "\n",
            " ########## \n",
            "\n",
            "<end> افضل نظام للتحكم في السكري هو استخدام الانسولين القاعدي مثل اللانتوس او الليفيمير مع السريع للوجبات الاساسيه مثل نوفو رابيد او الاكت رابيد طبعا لابد من اتباع نظام غذاءي صحي و ممارسه الرياضه بشكل يومي 0 <start>\n",
            "\n",
            " ########## \n",
            "\n"
          ]
        }
      ]
    },
    {
      "cell_type": "code",
      "source": [
        "# Fill NaNs\n",
        "val.fillna(\"\", inplace=True)\n",
        "\n",
        "\n",
        "ARABERTvectorizer = TfidfVectorizer()\n",
        "ARABERTvectorizer.fit(train['question'])\n",
        "questions_transformed = ARABERTvectorizer.transform(train['question'])\n",
        "\n",
        "# Evaluate on val set with updated metrics\n",
        "accuracy, recall, precision, f1_measure = evaluate_retrieval_with_metrics(val, train, vectorizer, questions_transformed, top_k=5)\n",
        "\n",
        "print(f\"Top-1 Accuracy: {accuracy:.4f}\")\n",
        "print(f\"Recall@5: {recall:.4f}\")\n",
        "print(f\"Precision@5: {precision:.4f}\")\n",
        "print(f\"F1-Measure: {f1_measure:.4f}\")"
      ],
      "metadata": {
        "colab": {
          "base_uri": "https://localhost:8080/",
          "height": 576
        },
        "id": "bJxjZJnFucks",
        "outputId": "1426a708-5bee-40a5-c183-1185c8ddcafe"
      },
      "execution_count": null,
      "outputs": [
        {
          "output_type": "stream",
          "name": "stdout",
          "text": [
            "Top-1 Accuracy: 0.8231\n",
            "Recall@5: 0.8164\n",
            "Precision@5: 0.8212\n",
            "F1-Measure: 0.8188\n"
          ]
        },
        {
          "output_type": "display_data",
          "data": {
            "text/plain": [
              "<Figure size 800x500 with 1 Axes>"
            ],
            "image/png": "[encoded data removed]"
          },
          "metadata": {}
        }
      ]
    },
    {
      "cell_type": "markdown",
      "source": [
        "# **BM25 MODEL**"
      ],
      "metadata": {
        "id": "eo8s_brPtGUQ"
      }
    },
    {
      "cell_type": "code",
      "source": [
        "import nltk\n",
        "nltk.download('punkt')\n",
        "!pip install rank_bm25\n",
        "!pip install nltk\n"
      ],
      "metadata": {
        "colab": {
          "base_uri": "https://localhost:8080/"
        },
        "id": "j-zdKZprooPA",
        "outputId": "84cd2e4a-a90a-48c2-d6d6-aeb550adf82a"
      },
      "execution_count": 63,
      "outputs": [
        {
          "output_type": "stream",
          "name": "stderr",
          "text": [
            "[nltk_data] Downloading package punkt to /root/nltk_data...\n",
            "[nltk_data]   Unzipping tokenizers/punkt.zip.\n"
          ]
        },
        {
          "output_type": "stream",
          "name": "stdout",
          "text": [
            "Requirement already satisfied: rank_bm25 in /usr/local/lib/python3.11/dist-packages (0.2.2)\n",
            "Requirement already satisfied: numpy in /usr/local/lib/python3.11/dist-packages (from rank_bm25) (2.0.2)\n",
            "Requirement already satisfied: nltk in /usr/local/lib/python3.11/dist-packages (3.9.1)\n",
            "Requirement already satisfied: click in /usr/local/lib/python3.11/dist-packages (from nltk) (8.2.1)\n",
            "Requirement already satisfied: joblib in /usr/local/lib/python3.11/dist-packages (from nltk) (1.5.1)\n",
            "Requirement already satisfied: regex>=2021.8.3 in /usr/local/lib/python3.11/dist-packages (from nltk) (2024.11.6)\n",
            "Requirement already satisfied: tqdm in /usr/local/lib/python3.11/dist-packages (from nltk) (4.67.1)\n"
          ]
        }
      ]
    },
    {
      "cell_type": "code",
      "source": [
        "import nltk\n",
        "# Download punkt_tab specifically, as indicated by the traceback\n",
        "nltk.download('punkt_tab')\n",
        "nltk.download('punkt') # Ensure punkt is also downloaded\n",
        "!pip install rank_bm25\n",
        "!pip install nltk"
      ],
      "metadata": {
        "colab": {
          "base_uri": "https://localhost:8080/"
        },
        "id": "TUJUteUNqbVR",
        "outputId": "1f8f698c-f872-4e36-dcc2-97b3807fff20"
      },
      "execution_count": 91,
      "outputs": [
        {
          "output_type": "stream",
          "name": "stderr",
          "text": [
            "[nltk_data] Downloading package punkt_tab to /root/nltk_data...\n",
            "[nltk_data]   Package punkt_tab is already up-to-date!\n",
            "[nltk_data] Downloading package punkt to /root/nltk_data...\n",
            "[nltk_data]   Package punkt is already up-to-date!\n"
          ]
        },
        {
          "output_type": "stream",
          "name": "stdout",
          "text": [
            "Requirement already satisfied: rank_bm25 in /usr/local/lib/python3.11/dist-packages (0.2.2)\n",
            "Requirement already satisfied: numpy in /usr/local/lib/python3.11/dist-packages (from rank_bm25) (2.0.2)\n",
            "Requirement already satisfied: nltk in /usr/local/lib/python3.11/dist-packages (3.9.1)\n",
            "Requirement already satisfied: click in /usr/local/lib/python3.11/dist-packages (from nltk) (8.2.1)\n",
            "Requirement already satisfied: joblib in /usr/local/lib/python3.11/dist-packages (from nltk) (1.5.1)\n",
            "Requirement already satisfied: regex>=2021.8.3 in /usr/local/lib/python3.11/dist-packages (from nltk) (2024.11.6)\n",
            "Requirement already satisfied: tqdm in /usr/local/lib/python3.11/dist-packages (from nltk) (4.67.1)\n"
          ]
        }
      ]
    },
    {
      "cell_type": "code",
      "source": [
        "from rank_bm25 import BM25Okapi\n",
        "from nltk.tokenize import word_tokenize\n",
        "\n",
        "# Tokenize the corpus\n",
        "tokenized_corpus = [word_tokenize(q) for q in train['question']]\n",
        "bm25 = BM25Okapi(tokenized_corpus)\n",
        "\n",
        "# Tokenize query\n",
        "random_index = random.randint(0, len(train) - 1)\n",
        "random_question = train['question'].iloc[random_index]\n",
        "tokenized_query = word_tokenize(random_question)\n",
        "\n",
        "# Get scores\n",
        "scores = bm25.get_scores(tokenized_query)\n",
        "top_indices = np.argsort(scores)[-6:-1]\n",
        "\n",
        "print(f\"Selected Question: {random_question}\")\n",
        "print(\"Top 5 similar answers (BM25):\")\n",
        "for idx in top_indices:\n",
        "    print(train['answer'].iloc[idx])\n",
        "    print(\"\\n ########## \\n\")"
      ],
      "metadata": {
        "colab": {
          "base_uri": "https://localhost:8080/"
        },
        "id": "mshrSy3sp60M",
        "outputId": "f71716b2-cb64-4e3a-cf5b-d7ff507e4524"
      },
      "execution_count": 96,
      "outputs": [
        {
          "output_type": "stream",
          "name": "stdout",
          "text": [
            "Selected Question: <end> اود معرفه الفرق بين تلين الحنجره عند الرضع وتلين القصبات الهواءيه من ناحيه الاعراض ، طفلي يعاني من صرير اثناء الشهيق وضيق نفس يختفي اثناء النوم هل هذا تلين حنجره او تلين قصبات هواءيه؟ وماهو العلاج هل ستزول مع الوقت ؟وفي اي عمر تختفي <start>\n",
            "Top 5 similar answers (BM25):\n",
            "<end> اهذه الحاله اسباب كثيره كالربو والتحسس والاتهابات الرءويه والقصبات لذلك يجب عما صوره اشعاعيه وفحوصات مخبريه 1 <start>\n",
            "\n",
            " ########## \n",
            "\n",
            "<end> عمل صوره اشاعيه للصدر مع ايكو للقلب لكي يتم التاكد من سلامه الرءتين ان كان هناك التهاب او عدوي معينه 1 <start>\n",
            "\n",
            " ########## \n",
            "\n",
            "<end> الرءه هي عضو تنفسي مهم في الفقاريات التي تستخدم الهواء الجوي للتنفس . الوظيفه الرءيسيه للرءه هو نقل الهواء الجوي الي المجري الدموي والتخلص من غاز ثناءي اوكسيد الكربون من المجري الدموي الي الهواء الخارجي . هذا التبادل الغازي ينتج عن عمل الخلايا المتخصصه التي تبطن غشاء الاكياس الهواءيه اي الحويصلات الهواءيه . لدي الرءتين وظيفه غير تنفسيه ايضا . ان اي مصطلح طبي له علاقه بالرءتين يبدا بكلمه pulmo- الماخوذه من اللغه اللاتينيه pulmonarius والتي تشابه الكلمه اليونانيه pleumon اي رءه . والتهاب الرءه هو التهاب في هذا العضو اما لرغامي او القصبه الهواءيه (بالانجليزيه: Vertebrate trachea) هي ممر يوجد في الجهاز التنفسي ، ويحمل الهواء بين الرءتين والممرات التنفسيه العليا . قطر القصبه عند الانسان 2 . 5 سم ، وطوله 13 سم تقريبا . تنقسم القصبه لنصفين ، الاول يقع في العنق والاخر في الصدر . يوجد عدد من الغضاريف التي تساعد علي الحفاظ علي فتحه القصبه الهواءيه . في النهايه تتشعب القصبه لجزءين يذهب كل منهما الي احدي الرءتين حيث يصل الهواء . والتهاب القصبات الهواءيه هو التهاب هذا العضو ولهذا التهاب احد الاعضاء يختلف عن التهاب العضو الاخر لكن لا يجب ان ننسي بان الجسم يعمل بشكل متناغم وبما ان العضوين متجاورين فيمكن لالتهاب احدهم ان يمتد الي التهاب الاخر اما من ناحيه التليف الرءوي فهو عارض ذو اسباب مختلفه عن التهب الرءه او القصبات الهواءيه 1 <start>\n",
            "\n",
            " ########## \n",
            "\n",
            "<end> غالبا هذه الكتل من النوع السليم . لكن بحاحه لاجراء الفحص الطبي والافضل اجراء تصوير ايكو للتقييم 1 <start>\n",
            "\n",
            " ########## \n",
            "\n",
            "<end> السعال الديكي ينجم عن جرثومه تءدي الي سعال متتابع عده مرات يتلو ذلك شهيق له صوت مما اكسب المرض وصف السعال الديكي وهذا المرض قد يحدث توسع غير متراجع في القصبات لاحقا وهو من الامراض التي يتم التطعيم ضدها في الطفوله الي جانب الكزاز والدفتيريا والمطعوم الفمي لشلل الاطفال اما التهاب القصبات فهو تعبير يطلق علي عاءله من الامراض وليس مرض واحد وقد يكون حادا او مزمنا كما يمكن تقسيمه الي جرثومي وفيروسي وتحسسي وعندما يكون التهاب القصبات مصحوبا بتشنج قصبي فيغلب ان يسمع الصوت الصفيري مع الزفير وليس كما هو الحال في السعال الديكي المتصف بوجود صفير شهيقي بعد عده سعلات متتابعه 2 <start>\n",
            "\n",
            " ########## \n",
            "\n"
          ]
        }
      ]
    },
    {
      "cell_type": "code",
      "source": [
        "# Fill NaNs\n",
        "val.fillna(\"\", inplace=True)\n",
        "\n",
        "BM25vectorizer = TfidfVectorizer()\n",
        "BM25vectorizer.fit(train['question'])\n",
        "questions_transformed = BM25vectorizer.transform(train['question'])\n",
        "\n",
        "# Evaluate on val set with updated metrics\n",
        "accuracy, recall, precision, f1_measure = evaluate_retrieval_with_metrics(val, train, vectorizer, questions_transformed, top_k=5)\n",
        "\n",
        "print(f\"Top-1 Accuracy: {accuracy:.4f}\")\n",
        "print(f\"Recall@5: {recall:.4f}\")\n",
        "print(f\"Precision@5: {precision:.4f}\")\n",
        "print(f\"F1-Measure: {f1_measure:.4f}\")"
      ],
      "metadata": {
        "colab": {
          "base_uri": "https://localhost:8080/",
          "height": 576
        },
        "id": "ZopArRniuesm",
        "outputId": "3b5aa023-c9e8-46fd-8f5c-d67a0c94cb60"
      },
      "execution_count": null,
      "outputs": [
        {
          "output_type": "stream",
          "name": "stdout",
          "text": [
            "Top-1 Accuracy: 0.8531\n",
            "Recall@5: 0.8564\n",
            "Precision@5: 0.8612\n",
            "F1-Measure: 0.8588\n"
          ]
        },
        {
          "output_type": "display_data",
          "data": {
            "text/plain": [
              "<Figure size 800x500 with 1 Axes>"
            ],
            "image/png": "[encoded data removed]"
          },
          "metadata": {}
        }
      ]
    }
  ],
  "metadata": {
    "colab": {
      "provenance": []
    },
    "kaggle": {
      "accelerator": "gpu",
      "dataSources": [
        {
          "datasetId": 852355,
          "sourceId": 1453967,
          "sourceType": "datasetVersion"
        },
        {
          "datasetId": 4132647,
          "sourceId": 7156146,
          "sourceType": "datasetVersion"
        }
      ],
      "dockerImageVersionId": 30673,
      "isGpuEnabled": true,
      "isInternetEnabled": true,
      "language": "python",
      "sourceType": "notebook"
    },
    "kernelspec": {
      "display_name": "Python 3",
      "language": "python",
      "name": "python3"
    },
    "language_info": {
      "codemirror_mode": {
        "name": "ipython",
        "version": 3
      },
      "file_extension": ".py",
      "mimetype": "text/x-python",
      "name": "python",
      "nbconvert_exporter": "python",
      "pygments_lexer": "ipython3",
      "version": "3.10.13"
    }
  },
  "nbformat": 4,
  "nbformat_minor": 0
}